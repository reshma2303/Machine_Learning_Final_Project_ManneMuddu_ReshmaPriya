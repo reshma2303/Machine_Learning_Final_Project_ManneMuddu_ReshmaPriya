{
  "nbformat": 4,
  "nbformat_minor": 0,
  "metadata": {
    "colab": {
      "name": "python_machine_learning_part2.ipynb",
      "provenance": [],
      "collapsed_sections": []
    },
    "kernelspec": {
      "name": "python3",
      "display_name": "Python 3"
    },
    "language_info": {
      "name": "python"
    }
  },
  "cells": [
    {
      "cell_type": "markdown",
      "source": [
        "ML Project Part 2:\n",
        "Due Thur 5/5\n",
        "No Late Submissions\n",
        "\n",
        "**Part 1: Data Preparation**\n",
        "1. If you are looking at a regression problem, plot the distribution of target values in your\n",
        "dataset. If classification, plot the distribution of classes. Give a high level summary of\n",
        "any other pertinent statistics / distributions relevant to your dataset.\n",
        "2. Look for NA or missing values, impute with a value that makes sense, drop the row as a\n",
        "last resort.\n",
        "3. Looking at the non-numeric columns in your dataset, decide which columns should be\n",
        "kept for model training. (hint: any unique identifiers should be dropped)\n",
        "4. Of the set of non-numeric columns, decide which should be label-encoded, and which\n",
        "should be one-hot encoded, and then carry this out on the dataset.\n",
        "5. Create at least 3 aggregation columns. This could be mean, std deviation, min/max,\n",
        "counts, and so on of other likely important columns. It is your choice which columns and\n",
        "which functions. This can easily be done with transforms(as we have done numerous\n",
        "times before) or pd.agg\n",
        "6. Provide a brief summary of your logic / justifications for steps 3 & 4.\n",
        "7. Split your data into features (x_data) and labels (y_data)\n",
        "8. Using a scaling/normalization library of your choice, scale / normalize your data\n",
        "9. Split your data into a test and training set randomly, with 10% of the data for the test set.\n",
        "10. Steps 6,7, and 8 may be done slightly out of order based on your implementation.\n"
      ],
      "metadata": {
        "id": "cGdq-gqjJtdC"
      }
    },
    {
      "cell_type": "markdown",
      "source": [
        "*1. If you are looking at a regression problem, plot the distribution of target values in your\n",
        "dataset. If classification, plot the distribution of classes. Give a high level summary of\n",
        "any other pertinent statistics / distributions relevant to your dataset.*"
      ],
      "metadata": {
        "id": "hSA8FScKJ54p"
      }
    },
    {
      "cell_type": "code",
      "source": [
        "import pandas as pd"
      ],
      "metadata": {
        "id": "YCsTpXX_JdB0"
      },
      "execution_count": 1,
      "outputs": []
    },
    {
      "cell_type": "code",
      "source": [
        "df = pd.read_csv(\"kddcup99_csv.csv\")"
      ],
      "metadata": {
        "id": "ucDLqnTSJnz8"
      },
      "execution_count": 3,
      "outputs": []
    },
    {
      "cell_type": "code",
      "source": [
        "catg_cols = ['protocol_type', 'service', 'flag', 'land', 'logged_in', 'is_host_login', 'is_guest_login']\n",
        "cont_cols = [ 'duration', 'src_bytes', 'dst_bytes', 'wrong_fragment', 'urgent', 'hot', 'num_failed_logins', 'num_compromised', 'root_shell', 'su_attempted', 'num_root', 'num_file_creations', 'num_shells', 'num_access_files', 'num_outbound_cmds', 'count', 'srv_count', 'serror_rate', 'srv_serror_rate', 'rerror_rate', 'srv_rerror_rate', 'same_srv_rate', 'diff_srv_rate', 'srv_diff_host_rate', 'dst_host_count', 'dst_host_srv_count', 'dst_host_same_srv_rate', 'dst_host_diff_srv_rate', 'dst_host_same_src_port_rate', 'dst_host_srv_diff_host_rate', 'dst_host_serror_rate', 'dst_host_srv_serror_rate', 'dst_host_rerror_rate', 'dst_host_srv_rerror_rate']"
      ],
      "metadata": {
        "id": "8qZ5kk9ZJn2P"
      },
      "execution_count": 4,
      "outputs": []
    },
    {
      "cell_type": "code",
      "source": [
        "target_variable = 'label'\n",
        "df.shape"
      ],
      "metadata": {
        "colab": {
          "base_uri": "https://localhost:8080/"
        },
        "id": "goUcCIGpJn45",
        "outputId": "90de604d-a450-4351-f5db-1ee1c80b7a04"
      },
      "execution_count": 5,
      "outputs": [
        {
          "output_type": "execute_result",
          "data": {
            "text/plain": [
              "(494020, 42)"
            ]
          },
          "metadata": {},
          "execution_count": 5
        }
      ]
    },
    {
      "cell_type": "code",
      "source": [
        "df['label'].value_counts() # we are working on binary classification normal/abnormal\n",
        "# hence group all attacks into the class abnormal\n"
      ],
      "metadata": {
        "colab": {
          "base_uri": "https://localhost:8080/"
        },
        "id": "NT6XqW1tJn7R",
        "outputId": "c797cb8a-7955-4557-aef6-030521d48f28"
      },
      "execution_count": 7,
      "outputs": [
        {
          "output_type": "execute_result",
          "data": {
            "text/plain": [
              "smurf              280790\n",
              "neptune            107201\n",
              "normal              97277\n",
              "back                 2203\n",
              "satan                1589\n",
              "ipsweep              1247\n",
              "portsweep            1040\n",
              "warezclient          1020\n",
              "teardrop              979\n",
              "pod                   264\n",
              "nmap                  231\n",
              "guess_passwd           53\n",
              "buffer_overflow        30\n",
              "land                   21\n",
              "warezmaster            20\n",
              "imap                   12\n",
              "rootkit                10\n",
              "loadmodule              9\n",
              "ftp_write               8\n",
              "multihop                7\n",
              "phf                     4\n",
              "perl                    3\n",
              "spy                     2\n",
              "Name: label, dtype: int64"
            ]
          },
          "metadata": {},
          "execution_count": 7
        }
      ]
    },
    {
      "cell_type": "code",
      "source": [
        "attack_types = list(df['label'].unique())\n",
        "attack_types.remove('normal') # remove normal from attack types as we only want malware attacks to convert as abnormal"
      ],
      "metadata": {
        "id": "o8vKKhAKJn90"
      },
      "execution_count": 8,
      "outputs": []
    },
    {
      "cell_type": "code",
      "source": [
        "df['label'] = df['label'].replace(attack_types, 'abnormal')"
      ],
      "metadata": {
        "id": "6-hEQBgfJoAZ"
      },
      "execution_count": 9,
      "outputs": []
    },
    {
      "cell_type": "code",
      "source": [
        "df['label'].value_counts()"
      ],
      "metadata": {
        "colab": {
          "base_uri": "https://localhost:8080/"
        },
        "id": "LVRGZXKIJoDC",
        "outputId": "4b1712d6-f7ea-4095-9117-a3e53a55fb60"
      },
      "execution_count": 10,
      "outputs": [
        {
          "output_type": "execute_result",
          "data": {
            "text/plain": [
              "abnormal    396743\n",
              "normal       97277\n",
              "Name: label, dtype: int64"
            ]
          },
          "metadata": {},
          "execution_count": 10
        }
      ]
    },
    {
      "cell_type": "code",
      "source": [
        "# Target Variable histogram distribution\n",
        "label_hist_plot = df['label'].hist()\n",
        "label_hist_plot.set_xlabel('target_classes')\n",
        "label_hist_plot.set_ylabel('counts')\n",
        "label_hist_plot.set_title('Target Classes Distribution')"
      ],
      "metadata": {
        "colab": {
          "base_uri": "https://localhost:8080/",
          "height": 313
        },
        "id": "lI-MEQB_JoF1",
        "outputId": "179850f2-9b56-42d9-ed1e-f7d8e74b0ba0"
      },
      "execution_count": 11,
      "outputs": [
        {
          "output_type": "execute_result",
          "data": {
            "text/plain": [
              "Text(0.5, 1.0, 'Target Classes Distribution')"
            ]
          },
          "metadata": {},
          "execution_count": 11
        },
        {
          "output_type": "display_data",
          "data": {
            "text/plain": [
              "<Figure size 432x288 with 1 Axes>"
            ],
            "image/png": "[encoded data removed]"
          },
          "metadata": {
            "needs_background": "light"
          }
        }
      ]
    },
    {
      "cell_type": "markdown",
      "source": [
        "*2. Look for NA or missing values, impute with a value that makes sense, drop the row as a\n",
        "last resort.*"
      ],
      "metadata": {
        "id": "x-6IG7bXMuOL"
      }
    },
    {
      "cell_type": "code",
      "source": [
        "df.isna().any().all()"
      ],
      "metadata": {
        "colab": {
          "base_uri": "https://localhost:8080/"
        },
        "id": "BAjznCh9JoIa",
        "outputId": "91116492-66ad-45c4-c6d1-7bd0c3760355"
      },
      "execution_count": 13,
      "outputs": [
        {
          "output_type": "execute_result",
          "data": {
            "text/plain": [
              "False"
            ]
          },
          "metadata": {},
          "execution_count": 13
        }
      ]
    },
    {
      "cell_type": "markdown",
      "source": [
        "**Insight**\n",
        "As seen above there are NA or missing values in the dataset. Therefore, there is no need to try an imputation techniques"
      ],
      "metadata": {
        "id": "Y-dEYudRNDwM"
      }
    },
    {
      "cell_type": "markdown",
      "source": [
        "*3. Looking at the non-numeric columns in your dataset, decide which columns should be kept for model training. (hint: any unique identifiers should be dropped)*"
      ],
      "metadata": {
        "id": "PnNao5c2NRow"
      }
    },
    {
      "cell_type": "code",
      "source": [
        "df[cont_cols].dtypes # verify if all dtypes of numerical(continous) columns are either float or int, otherwise fix them"
      ],
      "metadata": {
        "colab": {
          "base_uri": "https://localhost:8080/"
        },
        "id": "t3ZxOQnZJoNb",
        "outputId": "e3fff1cc-792e-4a69-a24f-0e085294d260"
      },
      "execution_count": 16,
      "outputs": [
        {
          "output_type": "execute_result",
          "data": {
            "text/plain": [
              "duration                         int64\n",
              "src_bytes                        int64\n",
              "dst_bytes                        int64\n",
              "wrong_fragment                   int64\n",
              "urgent                           int64\n",
              "hot                              int64\n",
              "num_failed_logins                int64\n",
              "num_compromised                  int64\n",
              "root_shell                       int64\n",
              "su_attempted                     int64\n",
              "num_root                         int64\n",
              "num_file_creations               int64\n",
              "num_shells                       int64\n",
              "num_access_files                 int64\n",
              "num_outbound_cmds                int64\n",
              "count                            int64\n",
              "srv_count                        int64\n",
              "serror_rate                    float64\n",
              "srv_serror_rate                float64\n",
              "rerror_rate                    float64\n",
              "srv_rerror_rate                float64\n",
              "same_srv_rate                  float64\n",
              "diff_srv_rate                  float64\n",
              "srv_diff_host_rate             float64\n",
              "dst_host_count                   int64\n",
              "dst_host_srv_count               int64\n",
              "dst_host_same_srv_rate         float64\n",
              "dst_host_diff_srv_rate         float64\n",
              "dst_host_same_src_port_rate    float64\n",
              "dst_host_srv_diff_host_rate    float64\n",
              "dst_host_serror_rate           float64\n",
              "dst_host_srv_serror_rate       float64\n",
              "dst_host_rerror_rate           float64\n",
              "dst_host_srv_rerror_rate       float64\n",
              "dtype: object"
            ]
          },
          "metadata": {},
          "execution_count": 16
        }
      ]
    },
    {
      "cell_type": "code",
      "source": [
        "df[cont_cols].describe().T"
      ],
      "metadata": {
        "colab": {
          "base_uri": "https://localhost:8080/",
          "height": 1000
        },
        "id": "Q9UCAWb5JoQA",
        "outputId": "2c0666cf-6f93-4cd7-9c17-3216cd7f7443"
      },
      "execution_count": 17,
      "outputs": [
        {
          "output_type": "execute_result",
          "data": {
            "text/plain": [
              "                                count         mean            std  min  \\\n",
              "duration                     494020.0    47.979400     707.747185  0.0   \n",
              "src_bytes                    494020.0  3025.615744  988219.101230  0.0   \n",
              "dst_bytes                    494020.0   868.530774   33040.034672  0.0   \n",
              "wrong_fragment               494020.0     0.006433       0.134805  0.0   \n",
              "urgent                       494020.0     0.000014       0.005510  0.0   \n",
              "hot                          494020.0     0.034519       0.782103  0.0   \n",
              "num_failed_logins            494020.0     0.000152       0.015520  0.0   \n",
              "num_compromised              494020.0     0.010212       1.798328  0.0   \n",
              "root_shell                   494020.0     0.000111       0.010551  0.0   \n",
              "su_attempted                 494020.0     0.000036       0.007793  0.0   \n",
              "num_root                     494020.0     0.011352       2.012720  0.0   \n",
              "num_file_creations           494020.0     0.001083       0.096416  0.0   \n",
              "num_shells                   494020.0     0.000109       0.011020  0.0   \n",
              "num_access_files             494020.0     0.001008       0.036482  0.0   \n",
              "num_outbound_cmds            494020.0     0.000000       0.000000  0.0   \n",
              "count                        494020.0   332.286361     213.147107  0.0   \n",
              "srv_count                    494020.0   292.907131     246.322736  0.0   \n",
              "serror_rate                  494020.0     0.176687       0.380717  0.0   \n",
              "srv_serror_rate              494020.0     0.176609       0.381017  0.0   \n",
              "rerror_rate                  494020.0     0.057434       0.231624  0.0   \n",
              "srv_rerror_rate              494020.0     0.057719       0.232147  0.0   \n",
              "same_srv_rate                494020.0     0.791547       0.388190  0.0   \n",
              "diff_srv_rate                494020.0     0.020982       0.082206  0.0   \n",
              "srv_diff_host_rate           494020.0     0.028996       0.142397  0.0   \n",
              "dst_host_count               494020.0   232.471248      64.744601  0.0   \n",
              "dst_host_srv_count           494020.0   188.666052     106.040205  0.0   \n",
              "dst_host_same_srv_rate       494020.0     0.753781       0.410780  0.0   \n",
              "dst_host_diff_srv_rate       494020.0     0.030906       0.109259  0.0   \n",
              "dst_host_same_src_port_rate  494020.0     0.601936       0.481309  0.0   \n",
              "dst_host_srv_diff_host_rate  494020.0     0.006684       0.042133  0.0   \n",
              "dst_host_serror_rate         494020.0     0.176754       0.380593  0.0   \n",
              "dst_host_srv_serror_rate     494020.0     0.176443       0.380920  0.0   \n",
              "dst_host_rerror_rate         494020.0     0.058118       0.230590  0.0   \n",
              "dst_host_srv_rerror_rate     494020.0     0.057412       0.230141  0.0   \n",
              "\n",
              "                                25%    50%      75%          max  \n",
              "duration                       0.00    0.0     0.00      58329.0  \n",
              "src_bytes                     45.00  520.0  1032.00  693375640.0  \n",
              "dst_bytes                      0.00    0.0     0.00    5155468.0  \n",
              "wrong_fragment                 0.00    0.0     0.00          3.0  \n",
              "urgent                         0.00    0.0     0.00          3.0  \n",
              "hot                            0.00    0.0     0.00         30.0  \n",
              "num_failed_logins              0.00    0.0     0.00          5.0  \n",
              "num_compromised                0.00    0.0     0.00        884.0  \n",
              "root_shell                     0.00    0.0     0.00          1.0  \n",
              "su_attempted                   0.00    0.0     0.00          2.0  \n",
              "num_root                       0.00    0.0     0.00        993.0  \n",
              "num_file_creations             0.00    0.0     0.00         28.0  \n",
              "num_shells                     0.00    0.0     0.00          2.0  \n",
              "num_access_files               0.00    0.0     0.00          8.0  \n",
              "num_outbound_cmds              0.00    0.0     0.00          0.0  \n",
              "count                        117.00  510.0   511.00        511.0  \n",
              "srv_count                     10.00  510.0   511.00        511.0  \n",
              "serror_rate                    0.00    0.0     0.00          1.0  \n",
              "srv_serror_rate                0.00    0.0     0.00          1.0  \n",
              "rerror_rate                    0.00    0.0     0.00          1.0  \n",
              "srv_rerror_rate                0.00    0.0     0.00          1.0  \n",
              "same_srv_rate                  1.00    1.0     1.00          1.0  \n",
              "diff_srv_rate                  0.00    0.0     0.00          1.0  \n",
              "srv_diff_host_rate             0.00    0.0     0.00          1.0  \n",
              "dst_host_count               255.00  255.0   255.00        255.0  \n",
              "dst_host_srv_count            46.00  255.0   255.00        255.0  \n",
              "dst_host_same_srv_rate         0.41    1.0     1.00          1.0  \n",
              "dst_host_diff_srv_rate         0.00    0.0     0.04          1.0  \n",
              "dst_host_same_src_port_rate    0.00    1.0     1.00          1.0  \n",
              "dst_host_srv_diff_host_rate    0.00    0.0     0.00          1.0  \n",
              "dst_host_serror_rate           0.00    0.0     0.00          1.0  \n",
              "dst_host_srv_serror_rate       0.00    0.0     0.00          1.0  \n",
              "dst_host_rerror_rate           0.00    0.0     0.00          1.0  \n",
              "dst_host_srv_rerror_rate       0.00    0.0     0.00          1.0  "
            ],
            "text/html": [
              "\n",
              "  <div id=\"df-6e303e45-2210-4a29-9116-fed8b89dffe1\">\n",
              "    <div class=\"colab-df-container\">\n",
              "      <div>\n",
              "<style scoped>\n",
              "    .dataframe tbody tr th:only-of-type {\n",
              "        vertical-align: middle;\n",
              "    }\n",
              "\n",
              "    .dataframe tbody tr th {\n",
              "        vertical-align: top;\n",
              "    }\n",
              "\n",
              "    .dataframe thead th {\n",
              "        text-align: right;\n",
              "    }\n",
              "</style>\n",
              "<table border=\"1\" class=\"dataframe\">\n",
              "  <thead>\n",
              "    <tr style=\"text-align: right;\">\n",
              "      <th></th>\n",
              "      <th>count</th>\n",
              "      <th>mean</th>\n",
              "      <th>std</th>\n",
              "      <th>min</th>\n",
              "      <th>25%</th>\n",
              "      <th>50%</th>\n",
              "      <th>75%</th>\n",
              "      <th>max</th>\n",
              "    </tr>\n",
              "  </thead>\n",
              "  <tbody>\n",
              "    <tr>\n",
              "      <th>duration</th>\n",
              "      <td>494020.0</td>\n",
              "      <td>47.979400</td>\n",
              "      <td>707.747185</td>\n",
              "      <td>0.0</td>\n",
              "      <td>0.00</td>\n",
              "      <td>0.0</td>\n",
              "      <td>0.00</td>\n",
              "      <td>58329.0</td>\n",
              "    </tr>\n",
              "    <tr>\n",
              "      <th>src_bytes</th>\n",
              "      <td>494020.0</td>\n",
              "      <td>3025.615744</td>\n",
              "      <td>988219.101230</td>\n",
              "      <td>0.0</td>\n",
              "      <td>45.00</td>\n",
              "      <td>520.0</td>\n",
              "      <td>1032.00</td>\n",
              "      <td>693375640.0</td>\n",
              "    </tr>\n",
              "    <tr>\n",
              "      <th>dst_bytes</th>\n",
              "      <td>494020.0</td>\n",
              "      <td>868.530774</td>\n",
              "      <td>33040.034672</td>\n",
              "      <td>0.0</td>\n",
              "      <td>0.00</td>\n",
              "      <td>0.0</td>\n",
              "      <td>0.00</td>\n",
              "      <td>5155468.0</td>\n",
              "    </tr>\n",
              "    <tr>\n",
              "      <th>wrong_fragment</th>\n",
              "      <td>494020.0</td>\n",
              "      <td>0.006433</td>\n",
              "      <td>0.134805</td>\n",
              "      <td>0.0</td>\n",
              "      <td>0.00</td>\n",
              "      <td>0.0</td>\n",
              "      <td>0.00</td>\n",
              "      <td>3.0</td>\n",
              "    </tr>\n",
              "    <tr>\n",
              "      <th>urgent</th>\n",
              "      <td>494020.0</td>\n",
              "      <td>0.000014</td>\n",
              "      <td>0.005510</td>\n",
              "      <td>0.0</td>\n",
              "      <td>0.00</td>\n",
              "      <td>0.0</td>\n",
              "      <td>0.00</td>\n",
              "      <td>3.0</td>\n",
              "    </tr>\n",
              "    <tr>\n",
              "      <th>hot</th>\n",
              "      <td>494020.0</td>\n",
              "      <td>0.034519</td>\n",
              "      <td>0.782103</td>\n",
              "      <td>0.0</td>\n",
              "      <td>0.00</td>\n",
              "      <td>0.0</td>\n",
              "      <td>0.00</td>\n",
              "      <td>30.0</td>\n",
              "    </tr>\n",
              "    <tr>\n",
              "      <th>num_failed_logins</th>\n",
              "      <td>494020.0</td>\n",
              "      <td>0.000152</td>\n",
              "      <td>0.015520</td>\n",
              "      <td>0.0</td>\n",
              "      <td>0.00</td>\n",
              "      <td>0.0</td>\n",
              "      <td>0.00</td>\n",
              "      <td>5.0</td>\n",
              "    </tr>\n",
              "    <tr>\n",
              "      <th>num_compromised</th>\n",
              "      <td>494020.0</td>\n",
              "      <td>0.010212</td>\n",
              "      <td>1.798328</td>\n",
              "      <td>0.0</td>\n",
              "      <td>0.00</td>\n",
              "      <td>0.0</td>\n",
              "      <td>0.00</td>\n",
              "      <td>884.0</td>\n",
              "    </tr>\n",
              "    <tr>\n",
              "      <th>root_shell</th>\n",
              "      <td>494020.0</td>\n",
              "      <td>0.000111</td>\n",
              "      <td>0.010551</td>\n",
              "      <td>0.0</td>\n",
              "      <td>0.00</td>\n",
              "      <td>0.0</td>\n",
              "      <td>0.00</td>\n",
              "      <td>1.0</td>\n",
              "    </tr>\n",
              "    <tr>\n",
              "      <th>su_attempted</th>\n",
              "      <td>494020.0</td>\n",
              "      <td>0.000036</td>\n",
              "      <td>0.007793</td>\n",
              "      <td>0.0</td>\n",
              "      <td>0.00</td>\n",
              "      <td>0.0</td>\n",
              "      <td>0.00</td>\n",
              "      <td>2.0</td>\n",
              "    </tr>\n",
              "    <tr>\n",
              "      <th>num_root</th>\n",
              "      <td>494020.0</td>\n",
              "      <td>0.011352</td>\n",
              "      <td>2.012720</td>\n",
              "      <td>0.0</td>\n",
              "      <td>0.00</td>\n",
              "      <td>0.0</td>\n",
              "      <td>0.00</td>\n",
              "      <td>993.0</td>\n",
              "    </tr>\n",
              "    <tr>\n",
              "      <th>num_file_creations</th>\n",
              "      <td>494020.0</td>\n",
              "      <td>0.001083</td>\n",
              "      <td>0.096416</td>\n",
              "      <td>0.0</td>\n",
              "      <td>0.00</td>\n",
              "      <td>0.0</td>\n",
              "      <td>0.00</td>\n",
              "      <td>28.0</td>\n",
              "    </tr>\n",
              "    <tr>\n",
              "      <th>num_shells</th>\n",
              "      <td>494020.0</td>\n",
              "      <td>0.000109</td>\n",
              "      <td>0.011020</td>\n",
              "      <td>0.0</td>\n",
              "      <td>0.00</td>\n",
              "      <td>0.0</td>\n",
              "      <td>0.00</td>\n",
              "      <td>2.0</td>\n",
              "    </tr>\n",
              "    <tr>\n",
              "      <th>num_access_files</th>\n",
              "      <td>494020.0</td>\n",
              "      <td>0.001008</td>\n",
              "      <td>0.036482</td>\n",
              "      <td>0.0</td>\n",
              "      <td>0.00</td>\n",
              "      <td>0.0</td>\n",
              "      <td>0.00</td>\n",
              "      <td>8.0</td>\n",
              "    </tr>\n",
              "    <tr>\n",
              "      <th>num_outbound_cmds</th>\n",
              "      <td>494020.0</td>\n",
              "      <td>0.000000</td>\n",
              "      <td>0.000000</td>\n",
              "      <td>0.0</td>\n",
              "      <td>0.00</td>\n",
              "      <td>0.0</td>\n",
              "      <td>0.00</td>\n",
              "      <td>0.0</td>\n",
              "    </tr>\n",
              "    <tr>\n",
              "      <th>count</th>\n",
              "      <td>494020.0</td>\n",
              "      <td>332.286361</td>\n",
              "      <td>213.147107</td>\n",
              "      <td>0.0</td>\n",
              "      <td>117.00</td>\n",
              "      <td>510.0</td>\n",
              "      <td>511.00</td>\n",
              "      <td>511.0</td>\n",
              "    </tr>\n",
              "    <tr>\n",
              "      <th>srv_count</th>\n",
              "      <td>494020.0</td>\n",
              "      <td>292.907131</td>\n",
              "      <td>246.322736</td>\n",
              "      <td>0.0</td>\n",
              "      <td>10.00</td>\n",
              "      <td>510.0</td>\n",
              "      <td>511.00</td>\n",
              "      <td>511.0</td>\n",
              "    </tr>\n",
              "    <tr>\n",
              "      <th>serror_rate</th>\n",
              "      <td>494020.0</td>\n",
              "      <td>0.176687</td>\n",
              "      <td>0.380717</td>\n",
              "      <td>0.0</td>\n",
              "      <td>0.00</td>\n",
              "      <td>0.0</td>\n",
              "      <td>0.00</td>\n",
              "      <td>1.0</td>\n",
              "    </tr>\n",
              "    <tr>\n",
              "      <th>srv_serror_rate</th>\n",
              "      <td>494020.0</td>\n",
              "      <td>0.176609</td>\n",
              "      <td>0.381017</td>\n",
              "      <td>0.0</td>\n",
              "      <td>0.00</td>\n",
              "      <td>0.0</td>\n",
              "      <td>0.00</td>\n",
              "      <td>1.0</td>\n",
              "    </tr>\n",
              "    <tr>\n",
              "      <th>rerror_rate</th>\n",
              "      <td>494020.0</td>\n",
              "      <td>0.057434</td>\n",
              "      <td>0.231624</td>\n",
              "      <td>0.0</td>\n",
              "      <td>0.00</td>\n",
              "      <td>0.0</td>\n",
              "      <td>0.00</td>\n",
              "      <td>1.0</td>\n",
              "    </tr>\n",
              "    <tr>\n",
              "      <th>srv_rerror_rate</th>\n",
              "      <td>494020.0</td>\n",
              "      <td>0.057719</td>\n",
              "      <td>0.232147</td>\n",
              "      <td>0.0</td>\n",
              "      <td>0.00</td>\n",
              "      <td>0.0</td>\n",
              "      <td>0.00</td>\n",
              "      <td>1.0</td>\n",
              "    </tr>\n",
              "    <tr>\n",
              "      <th>same_srv_rate</th>\n",
              "      <td>494020.0</td>\n",
              "      <td>0.791547</td>\n",
              "      <td>0.388190</td>\n",
              "      <td>0.0</td>\n",
              "      <td>1.00</td>\n",
              "      <td>1.0</td>\n",
              "      <td>1.00</td>\n",
              "      <td>1.0</td>\n",
              "    </tr>\n",
              "    <tr>\n",
              "      <th>diff_srv_rate</th>\n",
              "      <td>494020.0</td>\n",
              "      <td>0.020982</td>\n",
              "      <td>0.082206</td>\n",
              "      <td>0.0</td>\n",
              "      <td>0.00</td>\n",
              "      <td>0.0</td>\n",
              "      <td>0.00</td>\n",
              "      <td>1.0</td>\n",
              "    </tr>\n",
              "    <tr>\n",
              "      <th>srv_diff_host_rate</th>\n",
              "      <td>494020.0</td>\n",
              "      <td>0.028996</td>\n",
              "      <td>0.142397</td>\n",
              "      <td>0.0</td>\n",
              "      <td>0.00</td>\n",
              "      <td>0.0</td>\n",
              "      <td>0.00</td>\n",
              "      <td>1.0</td>\n",
              "    </tr>\n",
              "    <tr>\n",
              "      <th>dst_host_count</th>\n",
              "      <td>494020.0</td>\n",
              "      <td>232.471248</td>\n",
              "      <td>64.744601</td>\n",
              "      <td>0.0</td>\n",
              "      <td>255.00</td>\n",
              "      <td>255.0</td>\n",
              "      <td>255.00</td>\n",
              "      <td>255.0</td>\n",
              "    </tr>\n",
              "    <tr>\n",
              "      <th>dst_host_srv_count</th>\n",
              "      <td>494020.0</td>\n",
              "      <td>188.666052</td>\n",
              "      <td>106.040205</td>\n",
              "      <td>0.0</td>\n",
              "      <td>46.00</td>\n",
              "      <td>255.0</td>\n",
              "      <td>255.00</td>\n",
              "      <td>255.0</td>\n",
              "    </tr>\n",
              "    <tr>\n",
              "      <th>dst_host_same_srv_rate</th>\n",
              "      <td>494020.0</td>\n",
              "      <td>0.753781</td>\n",
              "      <td>0.410780</td>\n",
              "      <td>0.0</td>\n",
              "      <td>0.41</td>\n",
              "      <td>1.0</td>\n",
              "      <td>1.00</td>\n",
              "      <td>1.0</td>\n",
              "    </tr>\n",
              "    <tr>\n",
              "      <th>dst_host_diff_srv_rate</th>\n",
              "      <td>494020.0</td>\n",
              "      <td>0.030906</td>\n",
              "      <td>0.109259</td>\n",
              "      <td>0.0</td>\n",
              "      <td>0.00</td>\n",
              "      <td>0.0</td>\n",
              "      <td>0.04</td>\n",
              "      <td>1.0</td>\n",
              "    </tr>\n",
              "    <tr>\n",
              "      <th>dst_host_same_src_port_rate</th>\n",
              "      <td>494020.0</td>\n",
              "      <td>0.601936</td>\n",
              "      <td>0.481309</td>\n",
              "      <td>0.0</td>\n",
              "      <td>0.00</td>\n",
              "      <td>1.0</td>\n",
              "      <td>1.00</td>\n",
              "      <td>1.0</td>\n",
              "    </tr>\n",
              "    <tr>\n",
              "      <th>dst_host_srv_diff_host_rate</th>\n",
              "      <td>494020.0</td>\n",
              "      <td>0.006684</td>\n",
              "      <td>0.042133</td>\n",
              "      <td>0.0</td>\n",
              "      <td>0.00</td>\n",
              "      <td>0.0</td>\n",
              "      <td>0.00</td>\n",
              "      <td>1.0</td>\n",
              "    </tr>\n",
              "    <tr>\n",
              "      <th>dst_host_serror_rate</th>\n",
              "      <td>494020.0</td>\n",
              "      <td>0.176754</td>\n",
              "      <td>0.380593</td>\n",
              "      <td>0.0</td>\n",
              "      <td>0.00</td>\n",
              "      <td>0.0</td>\n",
              "      <td>0.00</td>\n",
              "      <td>1.0</td>\n",
              "    </tr>\n",
              "    <tr>\n",
              "      <th>dst_host_srv_serror_rate</th>\n",
              "      <td>494020.0</td>\n",
              "      <td>0.176443</td>\n",
              "      <td>0.380920</td>\n",
              "      <td>0.0</td>\n",
              "      <td>0.00</td>\n",
              "      <td>0.0</td>\n",
              "      <td>0.00</td>\n",
              "      <td>1.0</td>\n",
              "    </tr>\n",
              "    <tr>\n",
              "      <th>dst_host_rerror_rate</th>\n",
              "      <td>494020.0</td>\n",
              "      <td>0.058118</td>\n",
              "      <td>0.230590</td>\n",
              "      <td>0.0</td>\n",
              "      <td>0.00</td>\n",
              "      <td>0.0</td>\n",
              "      <td>0.00</td>\n",
              "      <td>1.0</td>\n",
              "    </tr>\n",
              "    <tr>\n",
              "      <th>dst_host_srv_rerror_rate</th>\n",
              "      <td>494020.0</td>\n",
              "      <td>0.057412</td>\n",
              "      <td>0.230141</td>\n",
              "      <td>0.0</td>\n",
              "      <td>0.00</td>\n",
              "      <td>0.0</td>\n",
              "      <td>0.00</td>\n",
              "      <td>1.0</td>\n",
              "    </tr>\n",
              "  </tbody>\n",
              "</table>\n",
              "</div>\n",
              "      <button class=\"colab-df-convert\" onclick=\"convertToInteractive('df-6e303e45-2210-4a29-9116-fed8b89dffe1')\"\n",
              "              title=\"Convert this dataframe to an interactive table.\"\n",
              "              style=\"display:none;\">\n",
              "        \n",
              "  <svg xmlns=\"http://www.w3.org/2000/svg\" height=\"24px\"viewBox=\"0 0 24 24\"\n",
              "       width=\"24px\">\n",
              "    <path d=\"M0 0h24v24H0V0z\" fill=\"none\"/>\n",
              "    <path d=\"M18.56 5.44l.94 2.06.94-2.06 2.06-.94-2.06-.94-.94-2.06-.94 2.06-2.06.94zm-11 1L8.5 8.5l.94-2.06 2.06-.94-2.06-.94L8.5 2.5l-.94 2.06-2.06.94zm10 10l.94 2.06.94-2.06 2.06-.94-2.06-.94-.94-2.06-.94 2.06-2.06.94z\"/><path d=\"M17.41 7.96l-1.37-1.37c-.4-.4-.92-.59-1.43-.59-.52 0-1.04.2-1.43.59L10.3 9.45l-7.72 7.72c-.78.78-.78 2.05 0 2.83L4 21.41c.39.39.9.59 1.41.59.51 0 1.02-.2 1.41-.59l7.78-7.78 2.81-2.81c.8-.78.8-2.07 0-2.86zM5.41 20L4 18.59l7.72-7.72 1.47 1.35L5.41 20z\"/>\n",
              "  </svg>\n",
              "      </button>\n",
              "      \n",
              "  <style>\n",
              "    .colab-df-container {\n",
              "      display:flex;\n",
              "      flex-wrap:wrap;\n",
              "      gap: 12px;\n",
              "    }\n",
              "\n",
              "    .colab-df-convert {\n",
              "      background-color: #E8F0FE;\n",
              "      border: none;\n",
              "      border-radius: 50%;\n",
              "      cursor: pointer;\n",
              "      display: none;\n",
              "      fill: #1967D2;\n",
              "      height: 32px;\n",
              "      padding: 0 0 0 0;\n",
              "      width: 32px;\n",
              "    }\n",
              "\n",
              "    .colab-df-convert:hover {\n",
              "      background-color: #E2EBFA;\n",
              "      box-shadow: 0px 1px 2px rgba(60, 64, 67, 0.3), 0px 1px 3px 1px rgba(60, 64, 67, 0.15);\n",
              "      fill: #174EA6;\n",
              "    }\n",
              "\n",
              "    [theme=dark] .colab-df-convert {\n",
              "      background-color: #3B4455;\n",
              "      fill: #D2E3FC;\n",
              "    }\n",
              "\n",
              "    [theme=dark] .colab-df-convert:hover {\n",
              "      background-color: #434B5C;\n",
              "      box-shadow: 0px 1px 3px 1px rgba(0, 0, 0, 0.15);\n",
              "      filter: drop-shadow(0px 1px 2px rgba(0, 0, 0, 0.3));\n",
              "      fill: #FFFFFF;\n",
              "    }\n",
              "  </style>\n",
              "\n",
              "      <script>\n",
              "        const buttonEl =\n",
              "          document.querySelector('#df-6e303e45-2210-4a29-9116-fed8b89dffe1 button.colab-df-convert');\n",
              "        buttonEl.style.display =\n",
              "          google.colab.kernel.accessAllowed ? 'block' : 'none';\n",
              "\n",
              "        async function convertToInteractive(key) {\n",
              "          const element = document.querySelector('#df-6e303e45-2210-4a29-9116-fed8b89dffe1');\n",
              "          const dataTable =\n",
              "            await google.colab.kernel.invokeFunction('convertToInteractive',\n",
              "                                                     [key], {});\n",
              "          if (!dataTable) return;\n",
              "\n",
              "          const docLinkHtml = 'Like what you see? Visit the ' +\n",
              "            '<a target=\"_blank\" href=https://colab.research.google.com/notebooks/data_table.ipynb>data table notebook</a>'\n",
              "            + ' to learn more about interactive tables.';\n",
              "          element.innerHTML = '';\n",
              "          dataTable['output_type'] = 'display_data';\n",
              "          await google.colab.output.renderOutput(dataTable, element);\n",
              "          const docLink = document.createElement('div');\n",
              "          docLink.innerHTML = docLinkHtml;\n",
              "          element.appendChild(docLink);\n",
              "        }\n",
              "      </script>\n",
              "    </div>\n",
              "  </div>\n",
              "  "
            ]
          },
          "metadata": {},
          "execution_count": 17
        }
      ]
    },
    {
      "cell_type": "markdown",
      "source": [
        "**Insight**\n",
        "- As seen from above statistics of the continous variables, the column/feature 'num_outbound_cmds' will be of no use for analysis/prediction since all of its values are 0s"
      ],
      "metadata": {
        "id": "BjNAcfC5OXcc"
      }
    },
    {
      "cell_type": "markdown",
      "source": [
        "*4. Of the set of non-numeric columns, decide which should be label-encoded, and which should be one-hot encoded, and then carry this out on the dataset.*"
      ],
      "metadata": {
        "id": "kcsLDsi8OtuV"
      }
    },
    {
      "cell_type": "code",
      "source": [
        "for catg_col in catg_cols:\n",
        "  print(f\"Unique values in non-numeric column {catg_col} are {len(df[catg_col].unique())}\")"
      ],
      "metadata": {
        "colab": {
          "base_uri": "https://localhost:8080/"
        },
        "id": "3MYes4W9JoTo",
        "outputId": "7014ba7f-7cb5-4a8d-f350-4f1a717e24cf"
      },
      "execution_count": 19,
      "outputs": [
        {
          "output_type": "stream",
          "name": "stdout",
          "text": [
            "Unique values in non-numeric column protocol_type are 3\n",
            "Unique values in non-numeric column service are 66\n",
            "Unique values in non-numeric column flag are 11\n",
            "Unique values in non-numeric column land are 2\n",
            "Unique values in non-numeric column logged_in are 2\n",
            "Unique values in non-numeric column is_host_login are 1\n",
            "Unique values in non-numeric column is_guest_login are 2\n"
          ]
        }
      ]
    },
    {
      "cell_type": "markdown",
      "source": [
        "**Insight**: In this case, all the non-numeric columns have less categories. Therefore, we can use one-hot encoding to all of these non-numeric columns and label encoder is not required"
      ],
      "metadata": {
        "id": "IvQELeahPm5V"
      }
    },
    {
      "cell_type": "markdown",
      "source": [
        "*5. Create at least 3 aggregation columns. This could be mean, std deviation, min/max, counts, and so on of other likely important columns. It is your choice which columns and which functions. This can easily be done with transforms(as we have done numerous times before) or pd.agg*"
      ],
      "metadata": {
        "id": "lUkbCkyvP1Ko"
      }
    },
    {
      "cell_type": "code",
      "source": [
        "df1 = df.copy() # do not modify original dataset since we will use it for modeling"
      ],
      "metadata": {
        "id": "2vovuL4cRGVG"
      },
      "execution_count": 21,
      "outputs": []
    },
    {
      "cell_type": "code",
      "source": [
        "# 1. Mean duration for each service\n",
        "df1['mean_service_duration'] = df1['duration'].groupby(df1['service']).transform('mean')\n",
        "df1[['service', 'mean_service_duration']].sample(5)"
      ],
      "metadata": {
        "colab": {
          "base_uri": "https://localhost:8080/",
          "height": 206
        },
        "id": "bZTmom_hOfNp",
        "outputId": "786aaceb-2983-46f6-feba-a0825211e638"
      },
      "execution_count": 24,
      "outputs": [
        {
          "output_type": "execute_result",
          "data": {
            "text/plain": [
              "       service  mean_service_duration\n",
              "152007   ecr_i               0.000000\n",
              "300403   ecr_i               0.000000\n",
              "143568    smtp               2.841304\n",
              "413470   ecr_i               0.000000\n",
              "236979   ecr_i               0.000000"
            ],
            "text/html": [
              "\n",
              "  <div id=\"df-b5e6c945-b8bc-4415-be4f-b7240d160765\">\n",
              "    <div class=\"colab-df-container\">\n",
              "      <div>\n",
              "<style scoped>\n",
              "    .dataframe tbody tr th:only-of-type {\n",
              "        vertical-align: middle;\n",
              "    }\n",
              "\n",
              "    .dataframe tbody tr th {\n",
              "        vertical-align: top;\n",
              "    }\n",
              "\n",
              "    .dataframe thead th {\n",
              "        text-align: right;\n",
              "    }\n",
              "</style>\n",
              "<table border=\"1\" class=\"dataframe\">\n",
              "  <thead>\n",
              "    <tr style=\"text-align: right;\">\n",
              "      <th></th>\n",
              "      <th>service</th>\n",
              "      <th>mean_service_duration</th>\n",
              "    </tr>\n",
              "  </thead>\n",
              "  <tbody>\n",
              "    <tr>\n",
              "      <th>152007</th>\n",
              "      <td>ecr_i</td>\n",
              "      <td>0.000000</td>\n",
              "    </tr>\n",
              "    <tr>\n",
              "      <th>300403</th>\n",
              "      <td>ecr_i</td>\n",
              "      <td>0.000000</td>\n",
              "    </tr>\n",
              "    <tr>\n",
              "      <th>143568</th>\n",
              "      <td>smtp</td>\n",
              "      <td>2.841304</td>\n",
              "    </tr>\n",
              "    <tr>\n",
              "      <th>413470</th>\n",
              "      <td>ecr_i</td>\n",
              "      <td>0.000000</td>\n",
              "    </tr>\n",
              "    <tr>\n",
              "      <th>236979</th>\n",
              "      <td>ecr_i</td>\n",
              "      <td>0.000000</td>\n",
              "    </tr>\n",
              "  </tbody>\n",
              "</table>\n",
              "</div>\n",
              "      <button class=\"colab-df-convert\" onclick=\"convertToInteractive('df-b5e6c945-b8bc-4415-be4f-b7240d160765')\"\n",
              "              title=\"Convert this dataframe to an interactive table.\"\n",
              "              style=\"display:none;\">\n",
              "        \n",
              "  <svg xmlns=\"http://www.w3.org/2000/svg\" height=\"24px\"viewBox=\"0 0 24 24\"\n",
              "       width=\"24px\">\n",
              "    <path d=\"M0 0h24v24H0V0z\" fill=\"none\"/>\n",
              "    <path d=\"M18.56 5.44l.94 2.06.94-2.06 2.06-.94-2.06-.94-.94-2.06-.94 2.06-2.06.94zm-11 1L8.5 8.5l.94-2.06 2.06-.94-2.06-.94L8.5 2.5l-.94 2.06-2.06.94zm10 10l.94 2.06.94-2.06 2.06-.94-2.06-.94-.94-2.06-.94 2.06-2.06.94z\"/><path d=\"M17.41 7.96l-1.37-1.37c-.4-.4-.92-.59-1.43-.59-.52 0-1.04.2-1.43.59L10.3 9.45l-7.72 7.72c-.78.78-.78 2.05 0 2.83L4 21.41c.39.39.9.59 1.41.59.51 0 1.02-.2 1.41-.59l7.78-7.78 2.81-2.81c.8-.78.8-2.07 0-2.86zM5.41 20L4 18.59l7.72-7.72 1.47 1.35L5.41 20z\"/>\n",
              "  </svg>\n",
              "      </button>\n",
              "      \n",
              "  <style>\n",
              "    .colab-df-container {\n",
              "      display:flex;\n",
              "      flex-wrap:wrap;\n",
              "      gap: 12px;\n",
              "    }\n",
              "\n",
              "    .colab-df-convert {\n",
              "      background-color: #E8F0FE;\n",
              "      border: none;\n",
              "      border-radius: 50%;\n",
              "      cursor: pointer;\n",
              "      display: none;\n",
              "      fill: #1967D2;\n",
              "      height: 32px;\n",
              "      padding: 0 0 0 0;\n",
              "      width: 32px;\n",
              "    }\n",
              "\n",
              "    .colab-df-convert:hover {\n",
              "      background-color: #E2EBFA;\n",
              "      box-shadow: 0px 1px 2px rgba(60, 64, 67, 0.3), 0px 1px 3px 1px rgba(60, 64, 67, 0.15);\n",
              "      fill: #174EA6;\n",
              "    }\n",
              "\n",
              "    [theme=dark] .colab-df-convert {\n",
              "      background-color: #3B4455;\n",
              "      fill: #D2E3FC;\n",
              "    }\n",
              "\n",
              "    [theme=dark] .colab-df-convert:hover {\n",
              "      background-color: #434B5C;\n",
              "      box-shadow: 0px 1px 3px 1px rgba(0, 0, 0, 0.15);\n",
              "      filter: drop-shadow(0px 1px 2px rgba(0, 0, 0, 0.3));\n",
              "      fill: #FFFFFF;\n",
              "    }\n",
              "  </style>\n",
              "\n",
              "      <script>\n",
              "        const buttonEl =\n",
              "          document.querySelector('#df-b5e6c945-b8bc-4415-be4f-b7240d160765 button.colab-df-convert');\n",
              "        buttonEl.style.display =\n",
              "          google.colab.kernel.accessAllowed ? 'block' : 'none';\n",
              "\n",
              "        async function convertToInteractive(key) {\n",
              "          const element = document.querySelector('#df-b5e6c945-b8bc-4415-be4f-b7240d160765');\n",
              "          const dataTable =\n",
              "            await google.colab.kernel.invokeFunction('convertToInteractive',\n",
              "                                                     [key], {});\n",
              "          if (!dataTable) return;\n",
              "\n",
              "          const docLinkHtml = 'Like what you see? Visit the ' +\n",
              "            '<a target=\"_blank\" href=https://colab.research.google.com/notebooks/data_table.ipynb>data table notebook</a>'\n",
              "            + ' to learn more about interactive tables.';\n",
              "          element.innerHTML = '';\n",
              "          dataTable['output_type'] = 'display_data';\n",
              "          await google.colab.output.renderOutput(dataTable, element);\n",
              "          const docLink = document.createElement('div');\n",
              "          docLink.innerHTML = docLinkHtml;\n",
              "          element.appendChild(docLink);\n",
              "        }\n",
              "      </script>\n",
              "    </div>\n",
              "  </div>\n",
              "  "
            ]
          },
          "metadata": {},
          "execution_count": 24
        }
      ]
    },
    {
      "cell_type": "code",
      "source": [
        "# 2. Number of unique flags for each protocol type\n",
        "df1['n_flags'] = df1['flag'].groupby(df1['protocol_type']).transform(pd.Series.nunique)\n",
        "df1[['protocol_type', 'n_flags']].sample(5)"
      ],
      "metadata": {
        "colab": {
          "base_uri": "https://localhost:8080/",
          "height": 206
        },
        "id": "dnEAgovDRFwq",
        "outputId": "8012550f-694f-4f1f-9c63-3af01ce2fd8d"
      },
      "execution_count": 27,
      "outputs": [
        {
          "output_type": "execute_result",
          "data": {
            "text/plain": [
              "       protocol_type  n_flags\n",
              "402558          icmp        1\n",
              "326177          icmp        1\n",
              "103750          icmp        1\n",
              "106906           tcp       11\n",
              "436569          icmp        1"
            ],
            "text/html": [
              "\n",
              "  <div id=\"df-49393c4e-1782-4c89-9a01-0f002e3613f9\">\n",
              "    <div class=\"colab-df-container\">\n",
              "      <div>\n",
              "<style scoped>\n",
              "    .dataframe tbody tr th:only-of-type {\n",
              "        vertical-align: middle;\n",
              "    }\n",
              "\n",
              "    .dataframe tbody tr th {\n",
              "        vertical-align: top;\n",
              "    }\n",
              "\n",
              "    .dataframe thead th {\n",
              "        text-align: right;\n",
              "    }\n",
              "</style>\n",
              "<table border=\"1\" class=\"dataframe\">\n",
              "  <thead>\n",
              "    <tr style=\"text-align: right;\">\n",
              "      <th></th>\n",
              "      <th>protocol_type</th>\n",
              "      <th>n_flags</th>\n",
              "    </tr>\n",
              "  </thead>\n",
              "  <tbody>\n",
              "    <tr>\n",
              "      <th>402558</th>\n",
              "      <td>icmp</td>\n",
              "      <td>1</td>\n",
              "    </tr>\n",
              "    <tr>\n",
              "      <th>326177</th>\n",
              "      <td>icmp</td>\n",
              "      <td>1</td>\n",
              "    </tr>\n",
              "    <tr>\n",
              "      <th>103750</th>\n",
              "      <td>icmp</td>\n",
              "      <td>1</td>\n",
              "    </tr>\n",
              "    <tr>\n",
              "      <th>106906</th>\n",
              "      <td>tcp</td>\n",
              "      <td>11</td>\n",
              "    </tr>\n",
              "    <tr>\n",
              "      <th>436569</th>\n",
              "      <td>icmp</td>\n",
              "      <td>1</td>\n",
              "    </tr>\n",
              "  </tbody>\n",
              "</table>\n",
              "</div>\n",
              "      <button class=\"colab-df-convert\" onclick=\"convertToInteractive('df-49393c4e-1782-4c89-9a01-0f002e3613f9')\"\n",
              "              title=\"Convert this dataframe to an interactive table.\"\n",
              "              style=\"display:none;\">\n",
              "        \n",
              "  <svg xmlns=\"http://www.w3.org/2000/svg\" height=\"24px\"viewBox=\"0 0 24 24\"\n",
              "       width=\"24px\">\n",
              "    <path d=\"M0 0h24v24H0V0z\" fill=\"none\"/>\n",
              "    <path d=\"M18.56 5.44l.94 2.06.94-2.06 2.06-.94-2.06-.94-.94-2.06-.94 2.06-2.06.94zm-11 1L8.5 8.5l.94-2.06 2.06-.94-2.06-.94L8.5 2.5l-.94 2.06-2.06.94zm10 10l.94 2.06.94-2.06 2.06-.94-2.06-.94-.94-2.06-.94 2.06-2.06.94z\"/><path d=\"M17.41 7.96l-1.37-1.37c-.4-.4-.92-.59-1.43-.59-.52 0-1.04.2-1.43.59L10.3 9.45l-7.72 7.72c-.78.78-.78 2.05 0 2.83L4 21.41c.39.39.9.59 1.41.59.51 0 1.02-.2 1.41-.59l7.78-7.78 2.81-2.81c.8-.78.8-2.07 0-2.86zM5.41 20L4 18.59l7.72-7.72 1.47 1.35L5.41 20z\"/>\n",
              "  </svg>\n",
              "      </button>\n",
              "      \n",
              "  <style>\n",
              "    .colab-df-container {\n",
              "      display:flex;\n",
              "      flex-wrap:wrap;\n",
              "      gap: 12px;\n",
              "    }\n",
              "\n",
              "    .colab-df-convert {\n",
              "      background-color: #E8F0FE;\n",
              "      border: none;\n",
              "      border-radius: 50%;\n",
              "      cursor: pointer;\n",
              "      display: none;\n",
              "      fill: #1967D2;\n",
              "      height: 32px;\n",
              "      padding: 0 0 0 0;\n",
              "      width: 32px;\n",
              "    }\n",
              "\n",
              "    .colab-df-convert:hover {\n",
              "      background-color: #E2EBFA;\n",
              "      box-shadow: 0px 1px 2px rgba(60, 64, 67, 0.3), 0px 1px 3px 1px rgba(60, 64, 67, 0.15);\n",
              "      fill: #174EA6;\n",
              "    }\n",
              "\n",
              "    [theme=dark] .colab-df-convert {\n",
              "      background-color: #3B4455;\n",
              "      fill: #D2E3FC;\n",
              "    }\n",
              "\n",
              "    [theme=dark] .colab-df-convert:hover {\n",
              "      background-color: #434B5C;\n",
              "      box-shadow: 0px 1px 3px 1px rgba(0, 0, 0, 0.15);\n",
              "      filter: drop-shadow(0px 1px 2px rgba(0, 0, 0, 0.3));\n",
              "      fill: #FFFFFF;\n",
              "    }\n",
              "  </style>\n",
              "\n",
              "      <script>\n",
              "        const buttonEl =\n",
              "          document.querySelector('#df-49393c4e-1782-4c89-9a01-0f002e3613f9 button.colab-df-convert');\n",
              "        buttonEl.style.display =\n",
              "          google.colab.kernel.accessAllowed ? 'block' : 'none';\n",
              "\n",
              "        async function convertToInteractive(key) {\n",
              "          const element = document.querySelector('#df-49393c4e-1782-4c89-9a01-0f002e3613f9');\n",
              "          const dataTable =\n",
              "            await google.colab.kernel.invokeFunction('convertToInteractive',\n",
              "                                                     [key], {});\n",
              "          if (!dataTable) return;\n",
              "\n",
              "          const docLinkHtml = 'Like what you see? Visit the ' +\n",
              "            '<a target=\"_blank\" href=https://colab.research.google.com/notebooks/data_table.ipynb>data table notebook</a>'\n",
              "            + ' to learn more about interactive tables.';\n",
              "          element.innerHTML = '';\n",
              "          dataTable['output_type'] = 'display_data';\n",
              "          await google.colab.output.renderOutput(dataTable, element);\n",
              "          const docLink = document.createElement('div');\n",
              "          docLink.innerHTML = docLinkHtml;\n",
              "          element.appendChild(docLink);\n",
              "        }\n",
              "      </script>\n",
              "    </div>\n",
              "  </div>\n",
              "  "
            ]
          },
          "metadata": {},
          "execution_count": 27
        }
      ]
    },
    {
      "cell_type": "code",
      "source": [
        "# 3. Standard deviation of src_bytes with in each flag\n",
        "df1['std_src_bytes'] = df1['src_bytes'].groupby(df1['flag']).transform('std')\n",
        "df1[['flag', 'std_src_bytes']].sample(5)"
      ],
      "metadata": {
        "colab": {
          "base_uri": "https://localhost:8080/",
          "height": 206
        },
        "id": "s1eVedgDOfTU",
        "outputId": "b0534176-eeb4-47d7-c5f1-3f99770efe18"
      },
      "execution_count": 28,
      "outputs": [
        {
          "output_type": "execute_result",
          "data": {
            "text/plain": [
              "       flag  std_src_bytes\n",
              "464649  REJ       0.000000\n",
              "401518   SF   65983.358930\n",
              "406241   SF   65983.358930\n",
              "376325   S0       0.881447\n",
              "12698    SF   65983.358930"
            ],
            "text/html": [
              "\n",
              "  <div id=\"df-32487c00-f2fd-457e-8885-eac0adb7503f\">\n",
              "    <div class=\"colab-df-container\">\n",
              "      <div>\n",
              "<style scoped>\n",
              "    .dataframe tbody tr th:only-of-type {\n",
              "        vertical-align: middle;\n",
              "    }\n",
              "\n",
              "    .dataframe tbody tr th {\n",
              "        vertical-align: top;\n",
              "    }\n",
              "\n",
              "    .dataframe thead th {\n",
              "        text-align: right;\n",
              "    }\n",
              "</style>\n",
              "<table border=\"1\" class=\"dataframe\">\n",
              "  <thead>\n",
              "    <tr style=\"text-align: right;\">\n",
              "      <th></th>\n",
              "      <th>flag</th>\n",
              "      <th>std_src_bytes</th>\n",
              "    </tr>\n",
              "  </thead>\n",
              "  <tbody>\n",
              "    <tr>\n",
              "      <th>464649</th>\n",
              "      <td>REJ</td>\n",
              "      <td>0.000000</td>\n",
              "    </tr>\n",
              "    <tr>\n",
              "      <th>401518</th>\n",
              "      <td>SF</td>\n",
              "      <td>65983.358930</td>\n",
              "    </tr>\n",
              "    <tr>\n",
              "      <th>406241</th>\n",
              "      <td>SF</td>\n",
              "      <td>65983.358930</td>\n",
              "    </tr>\n",
              "    <tr>\n",
              "      <th>376325</th>\n",
              "      <td>S0</td>\n",
              "      <td>0.881447</td>\n",
              "    </tr>\n",
              "    <tr>\n",
              "      <th>12698</th>\n",
              "      <td>SF</td>\n",
              "      <td>65983.358930</td>\n",
              "    </tr>\n",
              "  </tbody>\n",
              "</table>\n",
              "</div>\n",
              "      <button class=\"colab-df-convert\" onclick=\"convertToInteractive('df-32487c00-f2fd-457e-8885-eac0adb7503f')\"\n",
              "              title=\"Convert this dataframe to an interactive table.\"\n",
              "              style=\"display:none;\">\n",
              "        \n",
              "  <svg xmlns=\"http://www.w3.org/2000/svg\" height=\"24px\"viewBox=\"0 0 24 24\"\n",
              "       width=\"24px\">\n",
              "    <path d=\"M0 0h24v24H0V0z\" fill=\"none\"/>\n",
              "    <path d=\"M18.56 5.44l.94 2.06.94-2.06 2.06-.94-2.06-.94-.94-2.06-.94 2.06-2.06.94zm-11 1L8.5 8.5l.94-2.06 2.06-.94-2.06-.94L8.5 2.5l-.94 2.06-2.06.94zm10 10l.94 2.06.94-2.06 2.06-.94-2.06-.94-.94-2.06-.94 2.06-2.06.94z\"/><path d=\"M17.41 7.96l-1.37-1.37c-.4-.4-.92-.59-1.43-.59-.52 0-1.04.2-1.43.59L10.3 9.45l-7.72 7.72c-.78.78-.78 2.05 0 2.83L4 21.41c.39.39.9.59 1.41.59.51 0 1.02-.2 1.41-.59l7.78-7.78 2.81-2.81c.8-.78.8-2.07 0-2.86zM5.41 20L4 18.59l7.72-7.72 1.47 1.35L5.41 20z\"/>\n",
              "  </svg>\n",
              "      </button>\n",
              "      \n",
              "  <style>\n",
              "    .colab-df-container {\n",
              "      display:flex;\n",
              "      flex-wrap:wrap;\n",
              "      gap: 12px;\n",
              "    }\n",
              "\n",
              "    .colab-df-convert {\n",
              "      background-color: #E8F0FE;\n",
              "      border: none;\n",
              "      border-radius: 50%;\n",
              "      cursor: pointer;\n",
              "      display: none;\n",
              "      fill: #1967D2;\n",
              "      height: 32px;\n",
              "      padding: 0 0 0 0;\n",
              "      width: 32px;\n",
              "    }\n",
              "\n",
              "    .colab-df-convert:hover {\n",
              "      background-color: #E2EBFA;\n",
              "      box-shadow: 0px 1px 2px rgba(60, 64, 67, 0.3), 0px 1px 3px 1px rgba(60, 64, 67, 0.15);\n",
              "      fill: #174EA6;\n",
              "    }\n",
              "\n",
              "    [theme=dark] .colab-df-convert {\n",
              "      background-color: #3B4455;\n",
              "      fill: #D2E3FC;\n",
              "    }\n",
              "\n",
              "    [theme=dark] .colab-df-convert:hover {\n",
              "      background-color: #434B5C;\n",
              "      box-shadow: 0px 1px 3px 1px rgba(0, 0, 0, 0.15);\n",
              "      filter: drop-shadow(0px 1px 2px rgba(0, 0, 0, 0.3));\n",
              "      fill: #FFFFFF;\n",
              "    }\n",
              "  </style>\n",
              "\n",
              "      <script>\n",
              "        const buttonEl =\n",
              "          document.querySelector('#df-32487c00-f2fd-457e-8885-eac0adb7503f button.colab-df-convert');\n",
              "        buttonEl.style.display =\n",
              "          google.colab.kernel.accessAllowed ? 'block' : 'none';\n",
              "\n",
              "        async function convertToInteractive(key) {\n",
              "          const element = document.querySelector('#df-32487c00-f2fd-457e-8885-eac0adb7503f');\n",
              "          const dataTable =\n",
              "            await google.colab.kernel.invokeFunction('convertToInteractive',\n",
              "                                                     [key], {});\n",
              "          if (!dataTable) return;\n",
              "\n",
              "          const docLinkHtml = 'Like what you see? Visit the ' +\n",
              "            '<a target=\"_blank\" href=https://colab.research.google.com/notebooks/data_table.ipynb>data table notebook</a>'\n",
              "            + ' to learn more about interactive tables.';\n",
              "          element.innerHTML = '';\n",
              "          dataTable['output_type'] = 'display_data';\n",
              "          await google.colab.output.renderOutput(dataTable, element);\n",
              "          const docLink = document.createElement('div');\n",
              "          docLink.innerHTML = docLinkHtml;\n",
              "          element.appendChild(docLink);\n",
              "        }\n",
              "      </script>\n",
              "    </div>\n",
              "  </div>\n",
              "  "
            ]
          },
          "metadata": {},
          "execution_count": 28
        }
      ]
    },
    {
      "cell_type": "markdown",
      "source": [
        "*6. Provide a brief summary of your logic / justifications for steps 3 & 4.*"
      ],
      "metadata": {
        "id": "ydbbpWC-TUIt"
      }
    },
    {
      "cell_type": "markdown",
      "source": [
        "- As seen from above statistics of the continous variables, the column/feature 'num_outbound_cmds' will be of no use for analysis/prediction since all of its values are 0s\n",
        "-  In this case, all the non-numeric columns have less categories. Therefore, we can use one-hot encoding to all of these non-numeric columns and label encoder is not required"
      ],
      "metadata": {
        "id": "zv0Id-eIUJCA"
      }
    },
    {
      "cell_type": "markdown",
      "source": [
        "**7**. Split your data into features (x_data) and labels (y_data)\n",
        "\n",
        "**8**. Using a scaling/normalization library of your choice, scale / normalize your data\n",
        "\n",
        "**9**. Split your data into a test and training set randomly, with 10% of the data for the test set."
      ],
      "metadata": {
        "id": "ZI3oDhiuUSE7"
      }
    },
    {
      "cell_type": "markdown",
      "source": [
        "**Transform categorical columns (one-hot encoding)**"
      ],
      "metadata": {
        "id": "Vvlwica9V79_"
      }
    },
    {
      "cell_type": "code",
      "source": [
        "def convert_categorical_to_one_hot_encoding(dataset, column_name):\n",
        "    dummy_values = pd.get_dummies(dataset[column_name])\n",
        "    \n",
        "    for category in dummy_values.columns:\n",
        "        dummy_value_name = f\"{column_name}-{category}\"\n",
        "        dataset[dummy_value_name] = dummy_values[category]\n",
        "    dataset.drop(column_name, axis=1, inplace=True)"
      ],
      "metadata": {
        "id": "1nHQM3NLOfW5"
      },
      "execution_count": 29,
      "outputs": []
    },
    {
      "cell_type": "code",
      "source": [
        "df['is_host_login'].value_counts()"
      ],
      "metadata": {
        "colab": {
          "base_uri": "https://localhost:8080/"
        },
        "id": "iv3IUWYVOfeM",
        "outputId": "98d6b7fb-7ee4-4450-b60e-432a0c504542"
      },
      "execution_count": 30,
      "outputs": [
        {
          "output_type": "execute_result",
          "data": {
            "text/plain": [
              "0    494020\n",
              "Name: is_host_login, dtype: int64"
            ]
          },
          "metadata": {},
          "execution_count": 30
        }
      ]
    },
    {
      "cell_type": "markdown",
      "source": [
        "**Insight**\n",
        "As seen from above categorical columns distribution, the column/feature 'is_host_login' will not be useful for the prediction as all of its values are 0s."
      ],
      "metadata": {
        "id": "4hdzjLeTVyTL"
      }
    },
    {
      "cell_type": "code",
      "source": [
        "print(len(catg_cols))\n",
        "catg_cols.remove('is_host_login')\n",
        "print(len(catg_cols))"
      ],
      "metadata": {
        "colab": {
          "base_uri": "https://localhost:8080/"
        },
        "id": "RYZonaKROfg_",
        "outputId": "0e3d8732-bdd6-4223-8c86-b91e29620b65"
      },
      "execution_count": 31,
      "outputs": [
        {
          "output_type": "stream",
          "name": "stdout",
          "text": [
            "7\n",
            "6\n"
          ]
        }
      ]
    },
    {
      "cell_type": "code",
      "source": [
        "for cat_col in catg_cols:\n",
        "    if cat_col != \"is_host_login\":\n",
        "        convert_categorical_to_one_hot_encoding(df, cat_col)\n",
        "df.shape"
      ],
      "metadata": {
        "colab": {
          "base_uri": "https://localhost:8080/"
        },
        "id": "E_C91Af-Ofko",
        "outputId": "7b0e872c-64fc-4c6c-99a2-9c9503c0af2a"
      },
      "execution_count": 32,
      "outputs": [
        {
          "output_type": "execute_result",
          "data": {
            "text/plain": [
              "(494020, 122)"
            ]
          },
          "metadata": {},
          "execution_count": 32
        }
      ]
    },
    {
      "cell_type": "code",
      "source": [
        "df.head(2) # as seen below one-hot encoded columns were added"
      ],
      "metadata": {
        "colab": {
          "base_uri": "https://localhost:8080/",
          "height": 223
        },
        "id": "wBEqlaJLWIiM",
        "outputId": "f8eedd35-1537-4d66-890c-0cb3d34afc5b"
      },
      "execution_count": 35,
      "outputs": [
        {
          "output_type": "execute_result",
          "data": {
            "text/plain": [
              "   duration  src_bytes  dst_bytes  wrong_fragment  urgent  hot  \\\n",
              "0         0        181       5450               0       0    0   \n",
              "1         0        239        486               0       0    0   \n",
              "\n",
              "   num_failed_logins  num_compromised  root_shell  su_attempted  ...  flag-S2  \\\n",
              "0                  0                0           0             0  ...        0   \n",
              "1                  0                0           0             0  ...        0   \n",
              "\n",
              "   flag-S3  flag-SF  flag-SH  land-0  land-1  logged_in-0  logged_in-1  \\\n",
              "0        0        1        0       1       0            0            1   \n",
              "1        0        1        0       1       0            0            1   \n",
              "\n",
              "   is_guest_login-0  is_guest_login-1  \n",
              "0                 1                 0  \n",
              "1                 1                 0  \n",
              "\n",
              "[2 rows x 122 columns]"
            ],
            "text/html": [
              "\n",
              "  <div id=\"df-330b15ce-e1f3-452c-b987-e5efcb236459\">\n",
              "    <div class=\"colab-df-container\">\n",
              "      <div>\n",
              "<style scoped>\n",
              "    .dataframe tbody tr th:only-of-type {\n",
              "        vertical-align: middle;\n",
              "    }\n",
              "\n",
              "    .dataframe tbody tr th {\n",
              "        vertical-align: top;\n",
              "    }\n",
              "\n",
              "    .dataframe thead th {\n",
              "        text-align: right;\n",
              "    }\n",
              "</style>\n",
              "<table border=\"1\" class=\"dataframe\">\n",
              "  <thead>\n",
              "    <tr style=\"text-align: right;\">\n",
              "      <th></th>\n",
              "      <th>duration</th>\n",
              "      <th>src_bytes</th>\n",
              "      <th>dst_bytes</th>\n",
              "      <th>wrong_fragment</th>\n",
              "      <th>urgent</th>\n",
              "      <th>hot</th>\n",
              "      <th>num_failed_logins</th>\n",
              "      <th>num_compromised</th>\n",
              "      <th>root_shell</th>\n",
              "      <th>su_attempted</th>\n",
              "      <th>...</th>\n",
              "      <th>flag-S2</th>\n",
              "      <th>flag-S3</th>\n",
              "      <th>flag-SF</th>\n",
              "      <th>flag-SH</th>\n",
              "      <th>land-0</th>\n",
              "      <th>land-1</th>\n",
              "      <th>logged_in-0</th>\n",
              "      <th>logged_in-1</th>\n",
              "      <th>is_guest_login-0</th>\n",
              "      <th>is_guest_login-1</th>\n",
              "    </tr>\n",
              "  </thead>\n",
              "  <tbody>\n",
              "    <tr>\n",
              "      <th>0</th>\n",
              "      <td>0</td>\n",
              "      <td>181</td>\n",
              "      <td>5450</td>\n",
              "      <td>0</td>\n",
              "      <td>0</td>\n",
              "      <td>0</td>\n",
              "      <td>0</td>\n",
              "      <td>0</td>\n",
              "      <td>0</td>\n",
              "      <td>0</td>\n",
              "      <td>...</td>\n",
              "      <td>0</td>\n",
              "      <td>0</td>\n",
              "      <td>1</td>\n",
              "      <td>0</td>\n",
              "      <td>1</td>\n",
              "      <td>0</td>\n",
              "      <td>0</td>\n",
              "      <td>1</td>\n",
              "      <td>1</td>\n",
              "      <td>0</td>\n",
              "    </tr>\n",
              "    <tr>\n",
              "      <th>1</th>\n",
              "      <td>0</td>\n",
              "      <td>239</td>\n",
              "      <td>486</td>\n",
              "      <td>0</td>\n",
              "      <td>0</td>\n",
              "      <td>0</td>\n",
              "      <td>0</td>\n",
              "      <td>0</td>\n",
              "      <td>0</td>\n",
              "      <td>0</td>\n",
              "      <td>...</td>\n",
              "      <td>0</td>\n",
              "      <td>0</td>\n",
              "      <td>1</td>\n",
              "      <td>0</td>\n",
              "      <td>1</td>\n",
              "      <td>0</td>\n",
              "      <td>0</td>\n",
              "      <td>1</td>\n",
              "      <td>1</td>\n",
              "      <td>0</td>\n",
              "    </tr>\n",
              "  </tbody>\n",
              "</table>\n",
              "<p>2 rows × 122 columns</p>\n",
              "</div>\n",
              "      <button class=\"colab-df-convert\" onclick=\"convertToInteractive('df-330b15ce-e1f3-452c-b987-e5efcb236459')\"\n",
              "              title=\"Convert this dataframe to an interactive table.\"\n",
              "              style=\"display:none;\">\n",
              "        \n",
              "  <svg xmlns=\"http://www.w3.org/2000/svg\" height=\"24px\"viewBox=\"0 0 24 24\"\n",
              "       width=\"24px\">\n",
              "    <path d=\"M0 0h24v24H0V0z\" fill=\"none\"/>\n",
              "    <path d=\"M18.56 5.44l.94 2.06.94-2.06 2.06-.94-2.06-.94-.94-2.06-.94 2.06-2.06.94zm-11 1L8.5 8.5l.94-2.06 2.06-.94-2.06-.94L8.5 2.5l-.94 2.06-2.06.94zm10 10l.94 2.06.94-2.06 2.06-.94-2.06-.94-.94-2.06-.94 2.06-2.06.94z\"/><path d=\"M17.41 7.96l-1.37-1.37c-.4-.4-.92-.59-1.43-.59-.52 0-1.04.2-1.43.59L10.3 9.45l-7.72 7.72c-.78.78-.78 2.05 0 2.83L4 21.41c.39.39.9.59 1.41.59.51 0 1.02-.2 1.41-.59l7.78-7.78 2.81-2.81c.8-.78.8-2.07 0-2.86zM5.41 20L4 18.59l7.72-7.72 1.47 1.35L5.41 20z\"/>\n",
              "  </svg>\n",
              "      </button>\n",
              "      \n",
              "  <style>\n",
              "    .colab-df-container {\n",
              "      display:flex;\n",
              "      flex-wrap:wrap;\n",
              "      gap: 12px;\n",
              "    }\n",
              "\n",
              "    .colab-df-convert {\n",
              "      background-color: #E8F0FE;\n",
              "      border: none;\n",
              "      border-radius: 50%;\n",
              "      cursor: pointer;\n",
              "      display: none;\n",
              "      fill: #1967D2;\n",
              "      height: 32px;\n",
              "      padding: 0 0 0 0;\n",
              "      width: 32px;\n",
              "    }\n",
              "\n",
              "    .colab-df-convert:hover {\n",
              "      background-color: #E2EBFA;\n",
              "      box-shadow: 0px 1px 2px rgba(60, 64, 67, 0.3), 0px 1px 3px 1px rgba(60, 64, 67, 0.15);\n",
              "      fill: #174EA6;\n",
              "    }\n",
              "\n",
              "    [theme=dark] .colab-df-convert {\n",
              "      background-color: #3B4455;\n",
              "      fill: #D2E3FC;\n",
              "    }\n",
              "\n",
              "    [theme=dark] .colab-df-convert:hover {\n",
              "      background-color: #434B5C;\n",
              "      box-shadow: 0px 1px 3px 1px rgba(0, 0, 0, 0.15);\n",
              "      filter: drop-shadow(0px 1px 2px rgba(0, 0, 0, 0.3));\n",
              "      fill: #FFFFFF;\n",
              "    }\n",
              "  </style>\n",
              "\n",
              "      <script>\n",
              "        const buttonEl =\n",
              "          document.querySelector('#df-330b15ce-e1f3-452c-b987-e5efcb236459 button.colab-df-convert');\n",
              "        buttonEl.style.display =\n",
              "          google.colab.kernel.accessAllowed ? 'block' : 'none';\n",
              "\n",
              "        async function convertToInteractive(key) {\n",
              "          const element = document.querySelector('#df-330b15ce-e1f3-452c-b987-e5efcb236459');\n",
              "          const dataTable =\n",
              "            await google.colab.kernel.invokeFunction('convertToInteractive',\n",
              "                                                     [key], {});\n",
              "          if (!dataTable) return;\n",
              "\n",
              "          const docLinkHtml = 'Like what you see? Visit the ' +\n",
              "            '<a target=\"_blank\" href=https://colab.research.google.com/notebooks/data_table.ipynb>data table notebook</a>'\n",
              "            + ' to learn more about interactive tables.';\n",
              "          element.innerHTML = '';\n",
              "          dataTable['output_type'] = 'display_data';\n",
              "          await google.colab.output.renderOutput(dataTable, element);\n",
              "          const docLink = document.createElement('div');\n",
              "          docLink.innerHTML = docLinkHtml;\n",
              "          element.appendChild(docLink);\n",
              "        }\n",
              "      </script>\n",
              "    </div>\n",
              "  </div>\n",
              "  "
            ]
          },
          "metadata": {},
          "execution_count": 35
        }
      ]
    },
    {
      "cell_type": "markdown",
      "source": [
        "**Transform Numerical columns (Min-Max Normalization)**"
      ],
      "metadata": {
        "id": "hVkbfqUTWguo"
      }
    },
    {
      "cell_type": "code",
      "source": [
        "cont_cols_new = [each for each in cont_cols if each!='num_outbound_cmds'] # skipping the column num_outbound_cmds it is useless"
      ],
      "metadata": {
        "id": "Lv2cKF0EWtKV"
      },
      "execution_count": 36,
      "outputs": []
    },
    {
      "cell_type": "code",
      "source": [
        "df_CONTCOLS_MIN = df[cont_cols_new].min(axis=0)\n",
        "df_CONTCOLS_MAX = df[cont_cols_new].max(axis=0)"
      ],
      "metadata": {
        "id": "0A68G1raWyxk"
      },
      "execution_count": 37,
      "outputs": []
    },
    {
      "cell_type": "code",
      "source": [
        "df[cont_cols_new] = (df[cont_cols_new] - df_CONTCOLS_MIN) / (df_CONTCOLS_MAX - df_CONTCOLS_MIN)"
      ],
      "metadata": {
        "id": "A1HjCDErWy0Y"
      },
      "execution_count": 38,
      "outputs": []
    },
    {
      "cell_type": "code",
      "source": [
        "df[cont_cols_new].head(2)"
      ],
      "metadata": {
        "colab": {
          "base_uri": "https://localhost:8080/",
          "height": 240
        },
        "id": "SfOXn7qMWy39",
        "outputId": "02bb4f5e-8db7-43d8-820b-019259c63128"
      },
      "execution_count": 39,
      "outputs": [
        {
          "output_type": "execute_result",
          "data": {
            "text/plain": [
              "   duration     src_bytes  dst_bytes  wrong_fragment  urgent  hot  \\\n",
              "0       0.0  2.610418e-07   0.001057             0.0     0.0  0.0   \n",
              "1       0.0  3.446905e-07   0.000094             0.0     0.0  0.0   \n",
              "\n",
              "   num_failed_logins  num_compromised  root_shell  su_attempted  ...  \\\n",
              "0                0.0              0.0         0.0           0.0  ...   \n",
              "1                0.0              0.0         0.0           0.0  ...   \n",
              "\n",
              "   dst_host_count  dst_host_srv_count  dst_host_same_srv_rate  \\\n",
              "0        0.035294            0.035294                     1.0   \n",
              "1        0.074510            0.074510                     1.0   \n",
              "\n",
              "   dst_host_diff_srv_rate  dst_host_same_src_port_rate  \\\n",
              "0                     0.0                         0.11   \n",
              "1                     0.0                         0.05   \n",
              "\n",
              "   dst_host_srv_diff_host_rate  dst_host_serror_rate  \\\n",
              "0                          0.0                   0.0   \n",
              "1                          0.0                   0.0   \n",
              "\n",
              "   dst_host_srv_serror_rate  dst_host_rerror_rate  dst_host_srv_rerror_rate  \n",
              "0                       0.0                   0.0                       0.0  \n",
              "1                       0.0                   0.0                       0.0  \n",
              "\n",
              "[2 rows x 33 columns]"
            ],
            "text/html": [
              "\n",
              "  <div id=\"df-06fc024d-55a1-4911-a3e6-7144414e2bfd\">\n",
              "    <div class=\"colab-df-container\">\n",
              "      <div>\n",
              "<style scoped>\n",
              "    .dataframe tbody tr th:only-of-type {\n",
              "        vertical-align: middle;\n",
              "    }\n",
              "\n",
              "    .dataframe tbody tr th {\n",
              "        vertical-align: top;\n",
              "    }\n",
              "\n",
              "    .dataframe thead th {\n",
              "        text-align: right;\n",
              "    }\n",
              "</style>\n",
              "<table border=\"1\" class=\"dataframe\">\n",
              "  <thead>\n",
              "    <tr style=\"text-align: right;\">\n",
              "      <th></th>\n",
              "      <th>duration</th>\n",
              "      <th>src_bytes</th>\n",
              "      <th>dst_bytes</th>\n",
              "      <th>wrong_fragment</th>\n",
              "      <th>urgent</th>\n",
              "      <th>hot</th>\n",
              "      <th>num_failed_logins</th>\n",
              "      <th>num_compromised</th>\n",
              "      <th>root_shell</th>\n",
              "      <th>su_attempted</th>\n",
              "      <th>...</th>\n",
              "      <th>dst_host_count</th>\n",
              "      <th>dst_host_srv_count</th>\n",
              "      <th>dst_host_same_srv_rate</th>\n",
              "      <th>dst_host_diff_srv_rate</th>\n",
              "      <th>dst_host_same_src_port_rate</th>\n",
              "      <th>dst_host_srv_diff_host_rate</th>\n",
              "      <th>dst_host_serror_rate</th>\n",
              "      <th>dst_host_srv_serror_rate</th>\n",
              "      <th>dst_host_rerror_rate</th>\n",
              "      <th>dst_host_srv_rerror_rate</th>\n",
              "    </tr>\n",
              "  </thead>\n",
              "  <tbody>\n",
              "    <tr>\n",
              "      <th>0</th>\n",
              "      <td>0.0</td>\n",
              "      <td>2.610418e-07</td>\n",
              "      <td>0.001057</td>\n",
              "      <td>0.0</td>\n",
              "      <td>0.0</td>\n",
              "      <td>0.0</td>\n",
              "      <td>0.0</td>\n",
              "      <td>0.0</td>\n",
              "      <td>0.0</td>\n",
              "      <td>0.0</td>\n",
              "      <td>...</td>\n",
              "      <td>0.035294</td>\n",
              "      <td>0.035294</td>\n",
              "      <td>1.0</td>\n",
              "      <td>0.0</td>\n",
              "      <td>0.11</td>\n",
              "      <td>0.0</td>\n",
              "      <td>0.0</td>\n",
              "      <td>0.0</td>\n",
              "      <td>0.0</td>\n",
              "      <td>0.0</td>\n",
              "    </tr>\n",
              "    <tr>\n",
              "      <th>1</th>\n",
              "      <td>0.0</td>\n",
              "      <td>3.446905e-07</td>\n",
              "      <td>0.000094</td>\n",
              "      <td>0.0</td>\n",
              "      <td>0.0</td>\n",
              "      <td>0.0</td>\n",
              "      <td>0.0</td>\n",
              "      <td>0.0</td>\n",
              "      <td>0.0</td>\n",
              "      <td>0.0</td>\n",
              "      <td>...</td>\n",
              "      <td>0.074510</td>\n",
              "      <td>0.074510</td>\n",
              "      <td>1.0</td>\n",
              "      <td>0.0</td>\n",
              "      <td>0.05</td>\n",
              "      <td>0.0</td>\n",
              "      <td>0.0</td>\n",
              "      <td>0.0</td>\n",
              "      <td>0.0</td>\n",
              "      <td>0.0</td>\n",
              "    </tr>\n",
              "  </tbody>\n",
              "</table>\n",
              "<p>2 rows × 33 columns</p>\n",
              "</div>\n",
              "      <button class=\"colab-df-convert\" onclick=\"convertToInteractive('df-06fc024d-55a1-4911-a3e6-7144414e2bfd')\"\n",
              "              title=\"Convert this dataframe to an interactive table.\"\n",
              "              style=\"display:none;\">\n",
              "        \n",
              "  <svg xmlns=\"http://www.w3.org/2000/svg\" height=\"24px\"viewBox=\"0 0 24 24\"\n",
              "       width=\"24px\">\n",
              "    <path d=\"M0 0h24v24H0V0z\" fill=\"none\"/>\n",
              "    <path d=\"M18.56 5.44l.94 2.06.94-2.06 2.06-.94-2.06-.94-.94-2.06-.94 2.06-2.06.94zm-11 1L8.5 8.5l.94-2.06 2.06-.94-2.06-.94L8.5 2.5l-.94 2.06-2.06.94zm10 10l.94 2.06.94-2.06 2.06-.94-2.06-.94-.94-2.06-.94 2.06-2.06.94z\"/><path d=\"M17.41 7.96l-1.37-1.37c-.4-.4-.92-.59-1.43-.59-.52 0-1.04.2-1.43.59L10.3 9.45l-7.72 7.72c-.78.78-.78 2.05 0 2.83L4 21.41c.39.39.9.59 1.41.59.51 0 1.02-.2 1.41-.59l7.78-7.78 2.81-2.81c.8-.78.8-2.07 0-2.86zM5.41 20L4 18.59l7.72-7.72 1.47 1.35L5.41 20z\"/>\n",
              "  </svg>\n",
              "      </button>\n",
              "      \n",
              "  <style>\n",
              "    .colab-df-container {\n",
              "      display:flex;\n",
              "      flex-wrap:wrap;\n",
              "      gap: 12px;\n",
              "    }\n",
              "\n",
              "    .colab-df-convert {\n",
              "      background-color: #E8F0FE;\n",
              "      border: none;\n",
              "      border-radius: 50%;\n",
              "      cursor: pointer;\n",
              "      display: none;\n",
              "      fill: #1967D2;\n",
              "      height: 32px;\n",
              "      padding: 0 0 0 0;\n",
              "      width: 32px;\n",
              "    }\n",
              "\n",
              "    .colab-df-convert:hover {\n",
              "      background-color: #E2EBFA;\n",
              "      box-shadow: 0px 1px 2px rgba(60, 64, 67, 0.3), 0px 1px 3px 1px rgba(60, 64, 67, 0.15);\n",
              "      fill: #174EA6;\n",
              "    }\n",
              "\n",
              "    [theme=dark] .colab-df-convert {\n",
              "      background-color: #3B4455;\n",
              "      fill: #D2E3FC;\n",
              "    }\n",
              "\n",
              "    [theme=dark] .colab-df-convert:hover {\n",
              "      background-color: #434B5C;\n",
              "      box-shadow: 0px 1px 3px 1px rgba(0, 0, 0, 0.15);\n",
              "      filter: drop-shadow(0px 1px 2px rgba(0, 0, 0, 0.3));\n",
              "      fill: #FFFFFF;\n",
              "    }\n",
              "  </style>\n",
              "\n",
              "      <script>\n",
              "        const buttonEl =\n",
              "          document.querySelector('#df-06fc024d-55a1-4911-a3e6-7144414e2bfd button.colab-df-convert');\n",
              "        buttonEl.style.display =\n",
              "          google.colab.kernel.accessAllowed ? 'block' : 'none';\n",
              "\n",
              "        async function convertToInteractive(key) {\n",
              "          const element = document.querySelector('#df-06fc024d-55a1-4911-a3e6-7144414e2bfd');\n",
              "          const dataTable =\n",
              "            await google.colab.kernel.invokeFunction('convertToInteractive',\n",
              "                                                     [key], {});\n",
              "          if (!dataTable) return;\n",
              "\n",
              "          const docLinkHtml = 'Like what you see? Visit the ' +\n",
              "            '<a target=\"_blank\" href=https://colab.research.google.com/notebooks/data_table.ipynb>data table notebook</a>'\n",
              "            + ' to learn more about interactive tables.';\n",
              "          element.innerHTML = '';\n",
              "          dataTable['output_type'] = 'display_data';\n",
              "          await google.colab.output.renderOutput(dataTable, element);\n",
              "          const docLink = document.createElement('div');\n",
              "          docLink.innerHTML = docLinkHtml;\n",
              "          element.appendChild(docLink);\n",
              "        }\n",
              "      </script>\n",
              "    </div>\n",
              "  </div>\n",
              "  "
            ]
          },
          "metadata": {},
          "execution_count": 39
        }
      ]
    },
    {
      "cell_type": "code",
      "source": [
        "df.isna().values.any() # making sure there are no NaN values in the dataset"
      ],
      "metadata": {
        "colab": {
          "base_uri": "https://localhost:8080/"
        },
        "id": "ZUG0H9pzXFeV",
        "outputId": "34e5bbe2-c31f-42f5-edc8-a0fe961d3be8"
      },
      "execution_count": 40,
      "outputs": [
        {
          "output_type": "execute_result",
          "data": {
            "text/plain": [
              "False"
            ]
          },
          "metadata": {},
          "execution_count": 40
        }
      ]
    },
    {
      "cell_type": "markdown",
      "source": [
        "**Train-test Split**"
      ],
      "metadata": {
        "id": "aNCK4UlEXQT1"
      }
    },
    {
      "cell_type": "code",
      "source": [
        "df = df.sample(frac=1).reset_index(drop=True) # shuffle the dataset"
      ],
      "metadata": {
        "id": "EXtdMLYuXjaw"
      },
      "execution_count": 68,
      "outputs": []
    },
    {
      "cell_type": "code",
      "source": [
        "df['label'].replace(['abnormal','normal'],[0,1],inplace=True) # convert string classes to numerals"
      ],
      "metadata": {
        "id": "S4YiilJyfQUN"
      },
      "execution_count": 69,
      "outputs": []
    },
    {
      "cell_type": "code",
      "source": [
        "df['label'].value_counts()"
      ],
      "metadata": {
        "colab": {
          "base_uri": "https://localhost:8080/"
        },
        "id": "VBKUtSLYfXGf",
        "outputId": "d8fc4ea9-2653-4c1d-99ef-51259f0782ad"
      },
      "execution_count": 73,
      "outputs": [
        {
          "output_type": "execute_result",
          "data": {
            "text/plain": [
              "0    396743\n",
              "1     97277\n",
              "Name: label, dtype: int64"
            ]
          },
          "metadata": {},
          "execution_count": 73
        }
      ]
    },
    {
      "cell_type": "code",
      "source": [
        "X_numpy = df.drop(columns=['label']).to_numpy()\n",
        "Y_numpy = df['label'].to_numpy()"
      ],
      "metadata": {
        "id": "iLBNOC86XFg-"
      },
      "execution_count": 70,
      "outputs": []
    },
    {
      "cell_type": "code",
      "source": [
        "X_numpy.shape, Y_numpy.shape"
      ],
      "metadata": {
        "colab": {
          "base_uri": "https://localhost:8080/"
        },
        "id": "w2JLioj6XFjo",
        "outputId": "b3ba60c5-f5c1-42d3-e35b-00b3e17cf11e"
      },
      "execution_count": 71,
      "outputs": [
        {
          "output_type": "execute_result",
          "data": {
            "text/plain": [
              "((494020, 121), (494020,))"
            ]
          },
          "metadata": {},
          "execution_count": 71
        }
      ]
    },
    {
      "cell_type": "code",
      "source": [
        "# Split into training and validation, 20% validation set and 80% training \n",
        "index_10percent = int(0.1 * len(df.to_numpy()[:, 0]))\n",
        "print(index_10percent)\n",
        "XVALID = X_numpy[:index_10percent]\n",
        "print(\"XVALID shape : \", XVALID.shape)\n",
        "YVALID = Y_numpy[:index_10percent]\n",
        "print(\"YVALID shape : \", YVALID.shape)\n",
        "XTRAIN = X_numpy[index_10percent:]\n",
        "print(\"XTRAIN shape : \", XTRAIN.shape)\n",
        "YTRAIN = Y_numpy[index_10percent:]\n",
        "print(\"YTRAIN shape : \", YTRAIN.shape)"
      ],
      "metadata": {
        "colab": {
          "base_uri": "https://localhost:8080/"
        },
        "id": "6xfT1_tfXFnR",
        "outputId": "270e9571-a6c0-4aff-eed0-0ecf9fc867bf"
      },
      "execution_count": 72,
      "outputs": [
        {
          "output_type": "stream",
          "name": "stdout",
          "text": [
            "49402\n",
            "XVALID shape :  (49402, 121)\n",
            "YVALID shape :  (49402,)\n",
            "XTRAIN shape :  (444618, 121)\n",
            "YTRAIN shape :  (444618,)\n"
          ]
        }
      ]
    },
    {
      "cell_type": "markdown",
      "source": [
        "## **Part 2: Training:**\n",
        "1. If you are aiming for classification, import the supervised learning models, linear\n",
        "regression and decision tree classifier from sklearn. If regression, import linear regression\n",
        "and logistic regression.\n",
        "2. Fit / train both models on the training dataset / labels"
      ],
      "metadata": {
        "id": "hCVGZ4KMYTNu"
      }
    },
    {
      "cell_type": "code",
      "source": [
        "from sklearn.linear_model import LinearRegression\n",
        "from sklearn.tree import DecisionTreeClassifier"
      ],
      "metadata": {
        "id": "o5DfE9BFXqVo"
      },
      "execution_count": 74,
      "outputs": []
    },
    {
      "cell_type": "code",
      "source": [
        "linear_regression_class = LinearRegression()\n",
        "decision_tree_class = DecisionTreeClassifier(random_state=42)"
      ],
      "metadata": {
        "id": "ye9N92X6XqYL"
      },
      "execution_count": 75,
      "outputs": []
    },
    {
      "cell_type": "code",
      "source": [
        "linear_regression_class_base_model = linear_regression_class.fit(XTRAIN, YTRAIN)\n",
        "decision_tree_class_base_model = decision_tree_class.fit(XTRAIN, YTRAIN)"
      ],
      "metadata": {
        "id": "P74AsXYgXqbs"
      },
      "execution_count": 76,
      "outputs": []
    },
    {
      "cell_type": "markdown",
      "source": [
        "\n",
        "**Part 3: Post Model Analysis**\n",
        "1. Use model.score on your test set / labels to get an idea of accuracy\n",
        "2. Print a comparison of the two models’ accuracy\n",
        "3. Change the distribution of training-test data to 20% test, 30% test.. All the way to 90%\n",
        "test 10% train. Store this data and plot the relationship between accuracy and percent of\n",
        "training data.\n",
        "4. Using a residuals library of your choice, plot the residuals from the linear regression\n",
        "model. If you chose a classification problem, this plot will look slightly strange.\n",
        "a. Write a few sentences analyzing this plot.\n",
        "5. If you chose classification, find a way to plot or visualize the performance of the decision\n",
        "tree classifier, if regression, do this for the logistic regression model. I expect you to do\n",
        "your own research on the model and check out a few articles showing how people\n",
        "typically plot this, and explore the performance on your own. I am giving flexibility here\n",
        "as long as I see you did some research.\n",
        "6. Make an argument for which of the two models for the problem type you chose works\n",
        "better in this case."
      ],
      "metadata": {
        "id": "svX_KfrxZ3R0"
      }
    },
    {
      "cell_type": "markdown",
      "source": [
        "1. Use model.score on your test set / labels to get an idea of accuracy\n",
        "2. Print a comparison of the two models’ accuracy"
      ],
      "metadata": {
        "id": "ywZJeHlDZ78i"
      }
    },
    {
      "cell_type": "markdown",
      "source": [
        "**Note: Usually, LinearRegression is not used for classification problems. Since the project asked this model peculiarly for the classification problem I am using LinearRegression incase of Logistic Regression problem**"
      ],
      "metadata": {
        "id": "FDlnZKbhgfgL"
      }
    },
    {
      "cell_type": "code",
      "source": [
        "y_pred_linear = linear_regression_class_base_model.predict(XVALID)\n",
        "y_pred_decision_tree = decision_tree_class_base_model.predict(XVALID)"
      ],
      "metadata": {
        "id": "hNrNP517Xqgo"
      },
      "execution_count": 79,
      "outputs": []
    },
    {
      "cell_type": "code",
      "source": [
        "y_pred_linear"
      ],
      "metadata": {
        "colab": {
          "base_uri": "https://localhost:8080/"
        },
        "id": "gvX3dRCdf4rf",
        "outputId": "4cea9eee-11f0-4cde-aee3-bb1b1b9bb6d9"
      },
      "execution_count": 83,
      "outputs": [
        {
          "output_type": "execute_result",
          "data": {
            "text/plain": [
              "array([-0.00251007, -0.01943207, -0.00251007, ...,  1.02503204,\n",
              "        0.98532867, -0.0025177 ])"
            ]
          },
          "metadata": {},
          "execution_count": 83
        }
      ]
    },
    {
      "cell_type": "code",
      "source": [
        "import numpy as np\n",
        "y_pred_linear_converted_to_binary = np.where(y_pred_linear > 0.5, 1, 0) # assuming 0.5 as the classifier threshold\n",
        "y_pred_linear_converted_to_binary"
      ],
      "metadata": {
        "colab": {
          "base_uri": "https://localhost:8080/"
        },
        "id": "NspWYitVfzwK",
        "outputId": "ff73e2fc-0dc3-47df-c387-601e6fc6e89e"
      },
      "execution_count": 86,
      "outputs": [
        {
          "output_type": "execute_result",
          "data": {
            "text/plain": [
              "array([0, 0, 0, ..., 1, 1, 0])"
            ]
          },
          "metadata": {},
          "execution_count": 86
        }
      ]
    },
    {
      "cell_type": "code",
      "source": [
        "import sklearn.metrics as skmetrics"
      ],
      "metadata": {
        "id": "wuwewpiuaPx0"
      },
      "execution_count": 87,
      "outputs": []
    },
    {
      "cell_type": "code",
      "source": [
        "print(\"Classification Metrics of Linear Regression:\\n\")\n",
        "print(skmetrics.classification_report(YVALID, y_pred_linear_converted_to_binary))\n",
        "print(\"\\nClassification Metrics of DecisionTreeClassifier\\n\")\n",
        "print(skmetrics.classification_report(YVALID, y_pred_decision_tree))"
      ],
      "metadata": {
        "colab": {
          "base_uri": "https://localhost:8080/"
        },
        "id": "1ZkFsoq-Xqj_",
        "outputId": "7bbe634a-68ba-42b8-8e65-966be48fbab9"
      },
      "execution_count": 88,
      "outputs": [
        {
          "output_type": "stream",
          "name": "stdout",
          "text": [
            "Classification Metrics of Linear Regression:\n",
            "\n",
            "              precision    recall  f1-score   support\n",
            "\n",
            "           0       1.00      0.99      0.99     39680\n",
            "           1       0.97      0.99      0.98      9722\n",
            "\n",
            "    accuracy                           0.99     49402\n",
            "   macro avg       0.98      0.99      0.99     49402\n",
            "weighted avg       0.99      0.99      0.99     49402\n",
            "\n",
            "\n",
            "Classification Metrics of DecisionTreeClassifier\n",
            "\n",
            "              precision    recall  f1-score   support\n",
            "\n",
            "           0       1.00      1.00      1.00     39680\n",
            "           1       1.00      1.00      1.00      9722\n",
            "\n",
            "    accuracy                           1.00     49402\n",
            "   macro avg       1.00      1.00      1.00     49402\n",
            "weighted avg       1.00      1.00      1.00     49402\n",
            "\n"
          ]
        }
      ]
    },
    {
      "cell_type": "code",
      "source": [
        "print(\"Confusion Matrix of Logistic Regression:\\n\")\n",
        "print(skmetrics.confusion_matrix(YVALID, y_pred_linear_converted_to_binary))\n",
        "print(\"\\nConfusion Matrix of DecisionTreeClassifier\\n\")\n",
        "print(skmetrics.confusion_matrix(YVALID, y_pred_decision_tree))"
      ],
      "metadata": {
        "colab": {
          "base_uri": "https://localhost:8080/"
        },
        "id": "8HJRsNfKaqg0",
        "outputId": "23a1eb7e-bec9-4d1a-ea45-b341fc2e0447"
      },
      "execution_count": 89,
      "outputs": [
        {
          "output_type": "stream",
          "name": "stdout",
          "text": [
            "Confusion Matrix of Logistic Regression:\n",
            "\n",
            "[[39345   335]\n",
            " [   92  9630]]\n",
            "\n",
            "Confusion Matrix of DecisionTreeClassifier\n",
            "\n",
            "[[39674     6]\n",
            " [   12  9710]]\n"
          ]
        }
      ]
    },
    {
      "cell_type": "code",
      "source": [
        "print(\"Accuracy %  of Linear Regression:\\n\")\n",
        "print(round(skmetrics.accuracy_score(YVALID, y_pred_linear_converted_to_binary),4) * 100, \"%\")\n",
        "print(\"\\nAccuracy % of DecisionTreeClassifier\\n\")\n",
        "print(round(skmetrics.accuracy_score(YVALID, y_pred_decision_tree),4) * 100, \"%\")"
      ],
      "metadata": {
        "colab": {
          "base_uri": "https://localhost:8080/"
        },
        "id": "7Xy0Ot7caqjg",
        "outputId": "f388b913-3ed3-41f4-8d03-e6773fcea543"
      },
      "execution_count": 90,
      "outputs": [
        {
          "output_type": "stream",
          "name": "stdout",
          "text": [
            "Accuracy %  of Linear Regression:\n",
            "\n",
            "99.14 %\n",
            "\n",
            "Accuracy % of DecisionTreeClassifier\n",
            "\n",
            "99.96000000000001 %\n"
          ]
        }
      ]
    },
    {
      "cell_type": "markdown",
      "source": [
        "*4. Using a residuals library of your choice, plot the residuals from the linear regression model. If you chose a classification problem, this plot will look slightly strange. a. Write a few sentences analyzing this plot.*\n"
      ],
      "metadata": {
        "id": "T9jDRUyPgyaI"
      }
    },
    {
      "cell_type": "code",
      "source": [
        "#pip install yellowbrick - library to plot residual plot"
      ],
      "metadata": {
        "id": "QCTI3sTfjee_"
      },
      "execution_count": 95,
      "outputs": []
    },
    {
      "cell_type": "code",
      "source": [
        "import matplotlib.pyplot as plt\n",
        "from yellowbrick.regressor import ResidualsPlot"
      ],
      "metadata": {
        "id": "NvXgT7CBiWvu"
      },
      "execution_count": 96,
      "outputs": []
    },
    {
      "cell_type": "code",
      "source": [
        "visualizer = ResidualsPlot(linear_regression_class)\n",
        "\n",
        "visualizer.fit(XTRAIN, YTRAIN)  # Fit the training data to the visualizer\n",
        "visualizer.score(XVALID, YVALID)  # Evaluate the model on the test data\n",
        "visualizer.show()       "
      ],
      "metadata": {
        "colab": {
          "base_uri": "https://localhost:8080/",
          "height": 393
        },
        "id": "ijOEU-5wjr9h",
        "outputId": "238ea07d-6171-450f-c46b-d7a3181187c0"
      },
      "execution_count": 97,
      "outputs": [
        {
          "output_type": "display_data",
          "data": {
            "text/plain": [
              "<Figure size 576x396 with 2 Axes>"
            ],
            "image/png": "[encoded data removed]"
          },
          "metadata": {}
        },
        {
          "output_type": "execute_result",
          "data": {
            "text/plain": [
              "<matplotlib.axes._subplots.AxesSubplot at 0x7f6e429cdd10>"
            ]
          },
          "metadata": {},
          "execution_count": 97
        }
      ]
    },
    {
      "cell_type": "markdown",
      "source": [
        "**Insight**: As seen in the above plot, the plot is distributed between -1 and 1 since the predicted values range from -1 to 1. The R2 value looks good. Also, the histogram distribution is restricted to 0-1"
      ],
      "metadata": {
        "id": "wDlNf_DtkFl0"
      }
    },
    {
      "cell_type": "markdown",
      "source": [
        "*5.If you chose classification, find a way to plot or visualize the performance of the decision tree classifier, if regression, do this for the logistic regression model. I expect you to do your own research on the model and check out a few articles showing how people typically plot this, and explore the performance on your own. I am giving flexibility here as long as I see you did some research.*"
      ],
      "metadata": {
        "id": "YjhmtZ89g3Y3"
      }
    },
    {
      "cell_type": "code",
      "source": [
        "from sklearn.tree import plot_tree"
      ],
      "metadata": {
        "id": "J_qzwkNphAU0"
      },
      "execution_count": 98,
      "outputs": []
    },
    {
      "cell_type": "code",
      "source": [
        "plot_tree(decision_tree_class_base_model)"
      ],
      "metadata": {
        "colab": {
          "base_uri": "https://localhost:8080/",
          "height": 1000
        },
        "id": "wUKUyW5KhAXY",
        "outputId": "080fb057-95a5-4388-852b-11c16a7c014f"
      },
      "execution_count": 99,
      "outputs": [
        {
          "output_type": "execute_result",
          "data": {
            "text/plain": [
              "[Text(0.8536490456678789, 0.9852941176470589, 'X[16] <= 0.093\\ngini = 0.316\\nsamples = 444618\\nvalue = [357063, 87555]'),\n",
              " Text(0.7466139946186358, 0.9558823529411765, 'X[5] <= 0.017\\ngini = 0.15\\nsamples = 94011\\nvalue = [7701, 86310]'),\n",
              " Text(0.6662179636819343, 0.9264705882352942, 'X[19] <= 0.545\\ngini = 0.11\\nsamples = 91160\\nvalue = [5345, 85815]'),\n",
              " Text(0.5997840696874386, 0.8970588235294118, 'X[30] <= 0.49\\ngini = 0.077\\nsamples = 89366\\nvalue = [3578, 85788]'),\n",
              " Text(0.532966999213682, 0.8676470588235294, 'X[108] <= 0.5\\ngini = 0.054\\nsamples = 88164\\nvalue = [2466, 85698]'),\n",
              " Text(0.4370761254177315, 0.8382352941176471, 'X[3] <= 0.167\\ngini = 0.04\\nsamples = 87483\\nvalue = [1807, 85676]'),\n",
              " Text(0.430785580892471, 0.8088235294117647, 'X[29] <= 0.995\\ngini = 0.029\\nsamples = 86958\\nvalue = [1282, 85676]'),\n",
              " Text(0.2916871436996265, 0.7794117647058824, 'X[22] <= 0.195\\ngini = 0.008\\nsamples = 81431\\nvalue = [308, 81123]'),\n",
              " Text(0.2405764694318852, 0.75, 'X[33] <= 0.015\\ngini = 0.464\\nsamples = 164\\nvalue = [60, 104]'),\n",
              " Text(0.23428592490662473, 0.7205882352941176, 'X[20] <= 0.145\\ngini = 0.055\\nsamples = 107\\nvalue = [3, 104]'),\n",
              " Text(0.22799538038136427, 0.6911764705882353, 'X[30] <= 0.15\\ngini = 0.037\\nsamples = 106\\nvalue = [2, 104]'),\n",
              " Text(0.2217048358561038, 0.6617647058823529, 'X[49] <= 0.5\\ngini = 0.019\\nsamples = 105\\nvalue = [1, 104]'),\n",
              " Text(0.21541429133084333, 0.6323529411764706, 'gini = 0.0\\nsamples = 103\\nvalue = [0, 103]'),\n",
              " Text(0.22799538038136427, 0.6323529411764706, 'X[24] <= 0.125\\ngini = 0.5\\nsamples = 2\\nvalue = [1, 1]'),\n",
              " Text(0.2217048358561038, 0.6029411764705882, 'gini = 0.0\\nsamples = 1\\nvalue = [1, 0]'),\n",
              " Text(0.23428592490662473, 0.6029411764705882, 'gini = 0.0\\nsamples = 1\\nvalue = [0, 1]'),\n",
              " Text(0.23428592490662473, 0.6617647058823529, 'gini = 0.0\\nsamples = 1\\nvalue = [1, 0]'),\n",
              " Text(0.2405764694318852, 0.6911764705882353, 'gini = 0.0\\nsamples = 1\\nvalue = [1, 0]'),\n",
              " Text(0.24686701395714566, 0.7205882352941176, 'gini = 0.0\\nsamples = 57\\nvalue = [57, 0]'),\n",
              " Text(0.3427978179673678, 0.75, 'X[28] <= 0.925\\ngini = 0.006\\nsamples = 81267\\nvalue = [248, 81019]'),\n",
              " Text(0.31291773147238056, 0.7205882352941176, 'X[104] <= 0.5\\ngini = 0.005\\nsamples = 81208\\nvalue = [218, 80990]'),\n",
              " Text(0.29090082563396896, 0.6911764705882353, 'X[22] <= 0.645\\ngini = 0.005\\nsamples = 81202\\nvalue = [213, 80989]'),\n",
              " Text(0.2657386475329271, 0.6617647058823529, 'X[33] <= 0.03\\ngini = 0.104\\nsamples = 1468\\nvalue = [81, 1387]'),\n",
              " Text(0.2531575584824061, 0.6323529411764706, 'X[34] <= 0.515\\ngini = 0.004\\nsamples = 1388\\nvalue = [3, 1385]'),\n",
              " Text(0.24686701395714566, 0.6029411764705882, 'X[32] <= 0.045\\ngini = 0.003\\nsamples = 1387\\nvalue = [2, 1385]'),\n",
              " Text(0.2405764694318852, 0.5735294117647058, 'gini = 0.0\\nsamples = 1382\\nvalue = [0, 1382]'),\n",
              " Text(0.2531575584824061, 0.5735294117647058, 'X[26] <= 0.263\\ngini = 0.48\\nsamples = 5\\nvalue = [2, 3]'),\n",
              " Text(0.24686701395714566, 0.5441176470588235, 'gini = 0.0\\nsamples = 3\\nvalue = [0, 3]'),\n",
              " Text(0.2594481030076666, 0.5441176470588235, 'gini = 0.0\\nsamples = 2\\nvalue = [2, 0]'),\n",
              " Text(0.2594481030076666, 0.6029411764705882, 'gini = 0.0\\nsamples = 1\\nvalue = [1, 0]'),\n",
              " Text(0.278319736583448, 0.6323529411764706, 'X[1] <= 0.0\\ngini = 0.049\\nsamples = 80\\nvalue = [78, 2]'),\n",
              " Text(0.27202919205818754, 0.6029411764705882, 'gini = 0.0\\nsamples = 78\\nvalue = [78, 0]'),\n",
              " Text(0.28461028110870845, 0.6029411764705882, 'gini = 0.0\\nsamples = 2\\nvalue = [0, 2]'),\n",
              " Text(0.31606300373501084, 0.6617647058823529, 'X[52] <= 0.5\\ngini = 0.003\\nsamples = 79734\\nvalue = [132, 79602]'),\n",
              " Text(0.3034819146844899, 0.6323529411764706, 'X[62] <= 0.5\\ngini = 0.003\\nsamples = 79724\\nvalue = [127, 79597]'),\n",
              " Text(0.2971913701592294, 0.6029411764705882, 'X[119] <= 0.5\\ngini = 0.003\\nsamples = 79722\\nvalue = [125, 79597]'),\n",
              " Text(0.29090082563396896, 0.5735294117647058, 'gini = 0.0\\nsamples = 1\\nvalue = [1, 0]'),\n",
              " Text(0.3034819146844899, 0.5735294117647058, 'X[107] <= 0.5\\ngini = 0.003\\nsamples = 79721\\nvalue = [124, 79597]'),\n",
              " Text(0.2971913701592294, 0.5441176470588235, 'X[8] <= 0.5\\ngini = 0.003\\nsamples = 79720\\nvalue = [123, 79597]'),\n",
              " Text(0.2515480636917633, 0.5147058823529411, 'X[2] <= 0.0\\ngini = 0.003\\nsamples = 79711\\nvalue = [120, 79591]'),\n",
              " Text(0.17913308433261255, 0.4852941176470588, 'X[18] <= 0.75\\ngini = 0.02\\nsamples = 10670\\nvalue = [106, 10564]'),\n",
              " Text(0.17284253980735206, 0.45588235294117646, 'X[28] <= 0.065\\ngini = 0.019\\nsamples = 10668\\nvalue = [104, 10564]'),\n",
              " Text(0.10615293886377039, 0.4264705882352941, 'X[29] <= 0.805\\ngini = 0.01\\nsamples = 8973\\nvalue = [46, 8927]'),\n",
              " Text(0.08177707882838608, 0.39705882352941174, 'X[27] <= 0.005\\ngini = 0.006\\nsamples = 8920\\nvalue = [28, 8892]'),\n",
              " Text(0.061332809121289564, 0.36764705882352944, 'X[49] <= 0.5\\ngini = 0.48\\nsamples = 5\\nvalue = [3, 2]'),\n",
              " Text(0.055042264596029095, 0.3382352941176471, 'X[28] <= 0.015\\ngini = 0.375\\nsamples = 4\\nvalue = [3, 1]'),\n",
              " Text(0.048751720070768625, 0.3088235294117647, 'gini = 0.0\\nsamples = 1\\nvalue = [0, 1]'),\n",
              " Text(0.061332809121289564, 0.3088235294117647, 'gini = 0.0\\nsamples = 3\\nvalue = [3, 0]'),\n",
              " Text(0.06762335364655003, 0.3382352941176471, 'gini = 0.0\\nsamples = 1\\nvalue = [0, 1]'),\n",
              " Text(0.1022213485354826, 0.36764705882352944, 'X[78] <= 0.5\\ngini = 0.006\\nsamples = 8915\\nvalue = [25, 8890]'),\n",
              " Text(0.08649498722233143, 0.3382352941176471, 'X[55] <= 0.5\\ngini = 0.005\\nsamples = 8902\\nvalue = [23, 8879]'),\n",
              " Text(0.0739138981718105, 0.3088235294117647, 'X[27] <= 0.415\\ngini = 0.005\\nsamples = 8897\\nvalue = [22, 8875]'),\n",
              " Text(0.06762335364655003, 0.27941176470588236, 'X[83] <= 0.5\\ngini = 0.017\\nsamples = 2545\\nvalue = [22, 2523]'),\n",
              " Text(0.04717908393945351, 0.25, 'X[27] <= 0.345\\ngini = 0.013\\nsamples = 2538\\nvalue = [16, 2522]'),\n",
              " Text(0.025162178101041873, 0.22058823529411764, 'X[32] <= 0.025\\ngini = 0.006\\nsamples = 2148\\nvalue = [6, 2142]'),\n",
              " Text(0.012581089050520937, 0.19117647058823528, 'X[25] <= 0.998\\ngini = 0.004\\nsamples = 2106\\nvalue = [4, 2102]'),\n",
              " Text(0.006290544525260468, 0.16176470588235295, 'gini = 0.0\\nsamples = 1483\\nvalue = [0, 1483]'),\n",
              " Text(0.018871633575781404, 0.16176470588235295, 'X[28] <= 0.025\\ngini = 0.013\\nsamples = 623\\nvalue = [4, 619]'),\n",
              " Text(0.012581089050520937, 0.1323529411764706, 'gini = 0.0\\nsamples = 523\\nvalue = [0, 523]'),\n",
              " Text(0.025162178101041873, 0.1323529411764706, 'X[118] <= 0.5\\ngini = 0.077\\nsamples = 100\\nvalue = [4, 96]'),\n",
              " Text(0.018871633575781404, 0.10294117647058823, 'gini = 0.0\\nsamples = 52\\nvalue = [0, 52]'),\n",
              " Text(0.03145272262630234, 0.10294117647058823, 'X[1] <= 0.0\\ngini = 0.153\\nsamples = 48\\nvalue = [4, 44]'),\n",
              " Text(0.025162178101041873, 0.07352941176470588, 'X[27] <= 0.195\\ngini = 0.32\\nsamples = 20\\nvalue = [4, 16]'),\n",
              " Text(0.018871633575781404, 0.04411764705882353, 'gini = 0.0\\nsamples = 9\\nvalue = [0, 9]'),\n",
              " Text(0.03145272262630234, 0.04411764705882353, 'X[29] <= 0.23\\ngini = 0.463\\nsamples = 11\\nvalue = [4, 7]'),\n",
              " Text(0.025162178101041873, 0.014705882352941176, 'gini = 0.0\\nsamples = 4\\nvalue = [4, 0]'),\n",
              " Text(0.03774326715156281, 0.014705882352941176, 'gini = 0.0\\nsamples = 7\\nvalue = [0, 7]'),\n",
              " Text(0.03774326715156281, 0.07352941176470588, 'gini = 0.0\\nsamples = 28\\nvalue = [0, 28]'),\n",
              " Text(0.03774326715156281, 0.19117647058823528, 'X[28] <= 0.055\\ngini = 0.091\\nsamples = 42\\nvalue = [2, 40]'),\n",
              " Text(0.03145272262630234, 0.16176470588235295, 'gini = 0.0\\nsamples = 31\\nvalue = [0, 31]'),\n",
              " Text(0.04403381167682328, 0.16176470588235295, 'X[25] <= 0.688\\ngini = 0.298\\nsamples = 11\\nvalue = [2, 9]'),\n",
              " Text(0.03774326715156281, 0.1323529411764706, 'gini = 0.0\\nsamples = 7\\nvalue = [0, 7]'),\n",
              " Text(0.050324356202083746, 0.1323529411764706, 'X[29] <= 0.265\\ngini = 0.5\\nsamples = 4\\nvalue = [2, 2]'),\n",
              " Text(0.04403381167682328, 0.10294117647058823, 'gini = 0.0\\nsamples = 2\\nvalue = [2, 0]'),\n",
              " Text(0.05661490072734421, 0.10294117647058823, 'gini = 0.0\\nsamples = 2\\nvalue = [0, 2]'),\n",
              " Text(0.06919598977786515, 0.22058823529411764, 'X[1] <= 0.0\\ngini = 0.05\\nsamples = 390\\nvalue = [10, 380]'),\n",
              " Text(0.06290544525260468, 0.19117647058823528, 'X[25] <= 0.853\\ngini = 0.187\\nsamples = 96\\nvalue = [10, 86]'),\n",
              " Text(0.05661490072734421, 0.16176470588235295, 'gini = 0.0\\nsamples = 61\\nvalue = [0, 61]'),\n",
              " Text(0.06919598977786515, 0.16176470588235295, 'X[1] <= 0.0\\ngini = 0.408\\nsamples = 35\\nvalue = [10, 25]'),\n",
              " Text(0.06290544525260468, 0.1323529411764706, 'gini = 0.0\\nsamples = 19\\nvalue = [0, 19]'),\n",
              " Text(0.07548653430312562, 0.1323529411764706, 'X[25] <= 0.996\\ngini = 0.469\\nsamples = 16\\nvalue = [10, 6]'),\n",
              " Text(0.06919598977786515, 0.10294117647058823, 'X[17] <= 0.009\\ngini = 0.278\\nsamples = 12\\nvalue = [10, 2]'),\n",
              " Text(0.06290544525260468, 0.07352941176470588, 'X[26] <= 0.351\\ngini = 0.165\\nsamples = 11\\nvalue = [10, 1]'),\n",
              " Text(0.05661490072734421, 0.04411764705882353, 'gini = 0.0\\nsamples = 6\\nvalue = [6, 0]'),\n",
              " Text(0.06919598977786515, 0.04411764705882353, 'X[26] <= 0.376\\ngini = 0.32\\nsamples = 5\\nvalue = [4, 1]'),\n",
              " Text(0.06290544525260468, 0.014705882352941176, 'gini = 0.0\\nsamples = 1\\nvalue = [0, 1]'),\n",
              " Text(0.07548653430312562, 0.014705882352941176, 'gini = 0.0\\nsamples = 4\\nvalue = [4, 0]'),\n",
              " Text(0.07548653430312562, 0.07352941176470588, 'gini = 0.0\\nsamples = 1\\nvalue = [0, 1]'),\n",
              " Text(0.08177707882838608, 0.10294117647058823, 'gini = 0.0\\nsamples = 4\\nvalue = [0, 4]'),\n",
              " Text(0.07548653430312562, 0.19117647058823528, 'gini = 0.0\\nsamples = 294\\nvalue = [0, 294]'),\n",
              " Text(0.08806762335364655, 0.25, 'X[27] <= 0.315\\ngini = 0.245\\nsamples = 7\\nvalue = [6, 1]'),\n",
              " Text(0.08177707882838608, 0.22058823529411764, 'gini = 0.0\\nsamples = 6\\nvalue = [6, 0]'),\n",
              " Text(0.09435816787890702, 0.22058823529411764, 'gini = 0.0\\nsamples = 1\\nvalue = [0, 1]'),\n",
              " Text(0.08020444269707097, 0.27941176470588236, 'gini = 0.0\\nsamples = 6352\\nvalue = [0, 6352]'),\n",
              " Text(0.09907607627285236, 0.3088235294117647, 'X[27] <= 0.025\\ngini = 0.32\\nsamples = 5\\nvalue = [1, 4]'),\n",
              " Text(0.0927855317475919, 0.27941176470588236, 'gini = 0.0\\nsamples = 1\\nvalue = [1, 0]'),\n",
              " Text(0.10536662079811283, 0.27941176470588236, 'gini = 0.0\\nsamples = 4\\nvalue = [0, 4]'),\n",
              " Text(0.11794770984863377, 0.3382352941176471, 'X[113] <= 0.5\\ngini = 0.26\\nsamples = 13\\nvalue = [2, 11]'),\n",
              " Text(0.1116571653233733, 0.3088235294117647, 'gini = 0.0\\nsamples = 11\\nvalue = [0, 11]'),\n",
              " Text(0.12423825437389424, 0.3088235294117647, 'gini = 0.0\\nsamples = 2\\nvalue = [2, 0]'),\n",
              " Text(0.1305287988991547, 0.39705882352941174, 'X[83] <= 0.5\\ngini = 0.449\\nsamples = 53\\nvalue = [18, 35]'),\n",
              " Text(0.12423825437389424, 0.36764705882352944, 'gini = 0.0\\nsamples = 34\\nvalue = [0, 34]'),\n",
              " Text(0.13681934342441518, 0.36764705882352944, 'X[17] <= 0.003\\ngini = 0.1\\nsamples = 19\\nvalue = [18, 1]'),\n",
              " Text(0.1305287988991547, 0.3382352941176471, 'gini = 0.0\\nsamples = 1\\nvalue = [0, 1]'),\n",
              " Text(0.14310988794967563, 0.3382352941176471, 'gini = 0.0\\nsamples = 18\\nvalue = [18, 0]'),\n",
              " Text(0.23953214075093376, 0.4264705882352941, 'X[83] <= 0.5\\ngini = 0.066\\nsamples = 1695\\nvalue = [58, 1637]'),\n",
              " Text(0.22115195596618833, 0.39705882352941174, 'X[0] <= 0.0\\ngini = 0.049\\nsamples = 1677\\nvalue = [42, 1635]'),\n",
              " Text(0.20326321997247887, 0.36764705882352944, 'X[30] <= 0.115\\ngini = 0.042\\nsamples = 1669\\nvalue = [36, 1633]'),\n",
              " Text(0.18635738156084136, 0.3382352941176471, 'X[32] <= 0.035\\ngini = 0.032\\nsamples = 1623\\nvalue = [26, 1597]'),\n",
              " Text(0.17141733831334774, 0.3088235294117647, 'X[2] <= 0.0\\ngini = 0.025\\nsamples = 1603\\nvalue = [20, 1583]'),\n",
              " Text(0.16512679378808728, 0.27941176470588236, 'X[51] <= 0.5\\ngini = 0.023\\nsamples = 1602\\nvalue = [19, 1583]'),\n",
              " Text(0.14153725181836052, 0.25, 'X[32] <= 0.005\\ngini = 0.021\\nsamples = 1597\\nvalue = [17, 1580]'),\n",
              " Text(0.12581089050520936, 0.22058823529411764, 'X[99] <= 0.5\\ngini = 0.01\\nsamples = 1455\\nvalue = [7, 1448]'),\n",
              " Text(0.11322980145468842, 0.19117647058823528, 'X[28] <= 0.085\\ngini = 0.008\\nsamples = 1449\\nvalue = [6, 1443]'),\n",
              " Text(0.10693925692942795, 0.16176470588235295, 'X[26] <= 0.018\\ngini = 0.036\\nsamples = 327\\nvalue = [6, 321]'),\n",
              " Text(0.10064871240416749, 0.1323529411764706, 'X[25] <= 0.127\\ngini = 0.497\\nsamples = 13\\nvalue = [6, 7]'),\n",
              " Text(0.09435816787890702, 0.10294117647058823, 'gini = 0.0\\nsamples = 6\\nvalue = [6, 0]'),\n",
              " Text(0.10693925692942795, 0.10294117647058823, 'gini = 0.0\\nsamples = 7\\nvalue = [0, 7]'),\n",
              " Text(0.11322980145468842, 0.1323529411764706, 'gini = 0.0\\nsamples = 314\\nvalue = [0, 314]'),\n",
              " Text(0.11952034597994889, 0.16176470588235295, 'gini = 0.0\\nsamples = 1122\\nvalue = [0, 1122]'),\n",
              " Text(0.1383919795557303, 0.19117647058823528, 'X[28] <= 0.625\\ngini = 0.278\\nsamples = 6\\nvalue = [1, 5]'),\n",
              " Text(0.13210143503046984, 0.16176470588235295, 'gini = 0.0\\nsamples = 5\\nvalue = [0, 5]'),\n",
              " Text(0.14468252408099075, 0.16176470588235295, 'gini = 0.0\\nsamples = 1\\nvalue = [1, 0]'),\n",
              " Text(0.1572636131315117, 0.22058823529411764, 'X[25] <= 0.998\\ngini = 0.131\\nsamples = 142\\nvalue = [10, 132]'),\n",
              " Text(0.15097306860625123, 0.19117647058823528, 'gini = 0.0\\nsamples = 126\\nvalue = [0, 126]'),\n",
              " Text(0.16355415765677217, 0.19117647058823528, 'X[1] <= 0.0\\ngini = 0.469\\nsamples = 16\\nvalue = [10, 6]'),\n",
              " Text(0.1572636131315117, 0.16176470588235295, 'gini = 0.0\\nsamples = 10\\nvalue = [10, 0]'),\n",
              " Text(0.16984470218203263, 0.16176470588235295, 'gini = 0.0\\nsamples = 6\\nvalue = [0, 6]'),\n",
              " Text(0.18871633575781405, 0.25, 'X[26] <= 0.01\\ngini = 0.48\\nsamples = 5\\nvalue = [2, 3]'),\n",
              " Text(0.18242579123255356, 0.22058823529411764, 'X[25] <= 0.308\\ngini = 0.444\\nsamples = 3\\nvalue = [2, 1]'),\n",
              " Text(0.1761352467072931, 0.19117647058823528, 'gini = 0.0\\nsamples = 2\\nvalue = [2, 0]'),\n",
              " Text(0.18871633575781405, 0.19117647058823528, 'gini = 0.0\\nsamples = 1\\nvalue = [0, 1]'),\n",
              " Text(0.1950068802830745, 0.22058823529411764, 'gini = 0.0\\nsamples = 2\\nvalue = [0, 2]'),\n",
              " Text(0.17770788283860822, 0.27941176470588236, 'gini = 0.0\\nsamples = 1\\nvalue = [1, 0]'),\n",
              " Text(0.20129742480833498, 0.3088235294117647, 'X[25] <= 0.918\\ngini = 0.42\\nsamples = 20\\nvalue = [6, 14]'),\n",
              " Text(0.1950068802830745, 0.27941176470588236, 'gini = 0.0\\nsamples = 13\\nvalue = [0, 13]'),\n",
              " Text(0.20758796933359544, 0.27941176470588236, 'X[117] <= 0.5\\ngini = 0.245\\nsamples = 7\\nvalue = [6, 1]'),\n",
              " Text(0.20129742480833498, 0.25, 'gini = 0.0\\nsamples = 6\\nvalue = [6, 0]'),\n",
              " Text(0.2138785138588559, 0.25, 'gini = 0.0\\nsamples = 1\\nvalue = [0, 1]'),\n",
              " Text(0.22016905838411638, 0.3382352941176471, 'X[26] <= 0.124\\ngini = 0.34\\nsamples = 46\\nvalue = [10, 36]'),\n",
              " Text(0.2138785138588559, 0.3088235294117647, 'gini = 0.0\\nsamples = 36\\nvalue = [0, 36]'),\n",
              " Text(0.22645960290937683, 0.3088235294117647, 'gini = 0.0\\nsamples = 10\\nvalue = [10, 0]'),\n",
              " Text(0.23904069195989777, 0.36764705882352944, 'X[0] <= 0.001\\ngini = 0.375\\nsamples = 8\\nvalue = [6, 2]'),\n",
              " Text(0.23275014743463732, 0.3382352941176471, 'gini = 0.0\\nsamples = 6\\nvalue = [6, 0]'),\n",
              " Text(0.24533123648515825, 0.3382352941176471, 'gini = 0.0\\nsamples = 2\\nvalue = [0, 2]'),\n",
              " Text(0.25791232553567917, 0.39705882352941174, 'X[1] <= 0.0\\ngini = 0.198\\nsamples = 18\\nvalue = [16, 2]'),\n",
              " Text(0.2516217810104187, 0.36764705882352944, 'gini = 0.0\\nsamples = 16\\nvalue = [16, 0]'),\n",
              " Text(0.2642028700609397, 0.36764705882352944, 'gini = 0.0\\nsamples = 2\\nvalue = [0, 2]'),\n",
              " Text(0.185423628857873, 0.45588235294117646, 'gini = 0.0\\nsamples = 2\\nvalue = [2, 0]'),\n",
              " Text(0.3239630430509141, 0.4852941176470588, 'X[1] <= 0.0\\ngini = 0.0\\nsamples = 69041\\nvalue = [14, 69027]'),\n",
              " Text(0.31138195400039315, 0.45588235294117646, 'X[12] <= 0.25\\ngini = 0.0\\nsamples = 69021\\nvalue = [8, 69013]'),\n",
              " Text(0.3050914094751327, 0.4264705882352941, 'X[10] <= 0.007\\ngini = 0.0\\nsamples = 69020\\nvalue = [7, 69013]'),\n",
              " Text(0.2893650481619815, 0.39705882352941174, 'X[94] <= 0.5\\ngini = 0.0\\nsamples = 69017\\nvalue = [6, 69011]'),\n",
              " Text(0.2767839591114606, 0.36764705882352944, 'X[33] <= 0.315\\ngini = 0.0\\nsamples = 68856\\nvalue = [1, 68855]'),\n",
              " Text(0.27049341458620013, 0.3382352941176471, 'gini = 0.0\\nsamples = 68443\\nvalue = [0, 68443]'),\n",
              " Text(0.28307450363672104, 0.3382352941176471, 'X[33] <= 0.325\\ngini = 0.005\\nsamples = 413\\nvalue = [1, 412]'),\n",
              " Text(0.2767839591114606, 0.3088235294117647, 'X[26] <= 0.751\\ngini = 0.198\\nsamples = 9\\nvalue = [1, 8]'),\n",
              " Text(0.27049341458620013, 0.27941176470588236, 'gini = 0.0\\nsamples = 1\\nvalue = [1, 0]'),\n",
              " Text(0.28307450363672104, 0.27941176470588236, 'gini = 0.0\\nsamples = 8\\nvalue = [0, 8]'),\n",
              " Text(0.2893650481619815, 0.3088235294117647, 'gini = 0.0\\nsamples = 404\\nvalue = [0, 404]'),\n",
              " Text(0.30194613721250246, 0.36764705882352944, 'X[25] <= 0.025\\ngini = 0.06\\nsamples = 161\\nvalue = [5, 156]'),\n",
              " Text(0.295655592687242, 0.3382352941176471, 'gini = 0.0\\nsamples = 3\\nvalue = [3, 0]'),\n",
              " Text(0.3082366817377629, 0.3382352941176471, 'X[2] <= 0.0\\ngini = 0.025\\nsamples = 158\\nvalue = [2, 156]'),\n",
              " Text(0.30194613721250246, 0.3088235294117647, 'X[25] <= 0.933\\ngini = 0.444\\nsamples = 6\\nvalue = [2, 4]'),\n",
              " Text(0.295655592687242, 0.27941176470588236, 'gini = 0.0\\nsamples = 3\\nvalue = [0, 3]'),\n",
              " Text(0.3082366817377629, 0.27941176470588236, 'X[6] <= 0.3\\ngini = 0.444\\nsamples = 3\\nvalue = [2, 1]'),\n",
              " Text(0.30194613721250246, 0.25, 'gini = 0.0\\nsamples = 2\\nvalue = [2, 0]'),\n",
              " Text(0.3145272262630234, 0.25, 'gini = 0.0\\nsamples = 1\\nvalue = [0, 1]'),\n",
              " Text(0.3145272262630234, 0.3088235294117647, 'gini = 0.0\\nsamples = 152\\nvalue = [0, 152]'),\n",
              " Text(0.3208177707882839, 0.39705882352941174, 'X[2] <= 0.043\\ngini = 0.444\\nsamples = 3\\nvalue = [1, 2]'),\n",
              " Text(0.3145272262630234, 0.36764705882352944, 'gini = 0.0\\nsamples = 1\\nvalue = [1, 0]'),\n",
              " Text(0.32710831531354434, 0.36764705882352944, 'gini = 0.0\\nsamples = 2\\nvalue = [0, 2]'),\n",
              " Text(0.3176724985256536, 0.4264705882352941, 'gini = 0.0\\nsamples = 1\\nvalue = [1, 0]'),\n",
              " Text(0.336544132101435, 0.45588235294117646, 'X[1] <= 0.0\\ngini = 0.42\\nsamples = 20\\nvalue = [6, 14]'),\n",
              " Text(0.33025358757617457, 0.4264705882352941, 'gini = 0.0\\nsamples = 6\\nvalue = [6, 0]'),\n",
              " Text(0.3428346766266955, 0.4264705882352941, 'gini = 0.0\\nsamples = 14\\nvalue = [0, 14]'),\n",
              " Text(0.3428346766266955, 0.5147058823529411, 'X[2] <= 0.005\\ngini = 0.444\\nsamples = 9\\nvalue = [3, 6]'),\n",
              " Text(0.336544132101435, 0.4852941176470588, 'gini = 0.0\\nsamples = 3\\nvalue = [3, 0]'),\n",
              " Text(0.349125221151956, 0.4852941176470588, 'gini = 0.0\\nsamples = 6\\nvalue = [0, 6]'),\n",
              " Text(0.30977245920975033, 0.5441176470588235, 'gini = 0.0\\nsamples = 1\\nvalue = [1, 0]'),\n",
              " Text(0.30977245920975033, 0.6029411764705882, 'gini = 0.0\\nsamples = 2\\nvalue = [2, 0]'),\n",
              " Text(0.32864409278553175, 0.6323529411764706, 'X[1] <= 0.0\\ngini = 0.5\\nsamples = 10\\nvalue = [5, 5]'),\n",
              " Text(0.3223535482602713, 0.6029411764705882, 'gini = 0.0\\nsamples = 5\\nvalue = [0, 5]'),\n",
              " Text(0.3349346373107922, 0.6029411764705882, 'gini = 0.0\\nsamples = 5\\nvalue = [5, 0]'),\n",
              " Text(0.3349346373107922, 0.6911764705882353, 'X[83] <= 0.5\\ngini = 0.278\\nsamples = 6\\nvalue = [5, 1]'),\n",
              " Text(0.32864409278553175, 0.6617647058823529, 'gini = 0.0\\nsamples = 1\\nvalue = [0, 1]'),\n",
              " Text(0.34122518183605266, 0.6617647058823529, 'gini = 0.0\\nsamples = 5\\nvalue = [5, 0]'),\n",
              " Text(0.37267790446235505, 0.7205882352941176, 'X[33] <= 0.625\\ngini = 0.5\\nsamples = 59\\nvalue = [30, 29]'),\n",
              " Text(0.3600968154118341, 0.6911764705882353, 'X[0] <= 0.001\\ngini = 0.137\\nsamples = 27\\nvalue = [2, 25]'),\n",
              " Text(0.3538062708865736, 0.6617647058823529, 'gini = 0.0\\nsamples = 25\\nvalue = [0, 25]'),\n",
              " Text(0.36638735993709454, 0.6617647058823529, 'gini = 0.0\\nsamples = 2\\nvalue = [2, 0]'),\n",
              " Text(0.38525899351287596, 0.6911764705882353, 'X[1] <= 0.0\\ngini = 0.219\\nsamples = 32\\nvalue = [28, 4]'),\n",
              " Text(0.3789684489876155, 0.6617647058823529, 'X[52] <= 0.5\\ngini = 0.067\\nsamples = 29\\nvalue = [28, 1]'),\n",
              " Text(0.37267790446235505, 0.6323529411764706, 'gini = 0.0\\nsamples = 28\\nvalue = [28, 0]'),\n",
              " Text(0.38525899351287596, 0.6323529411764706, 'gini = 0.0\\nsamples = 1\\nvalue = [0, 1]'),\n",
              " Text(0.3915495380381364, 0.6617647058823529, 'gini = 0.0\\nsamples = 3\\nvalue = [0, 3]'),\n",
              " Text(0.5698840180853155, 0.7794117647058824, 'X[57] <= 0.5\\ngini = 0.29\\nsamples = 5527\\nvalue = [974, 4553]'),\n",
              " Text(0.542362885787301, 0.75, 'X[83] <= 0.5\\ngini = 0.154\\nsamples = 4935\\nvalue = [415, 4520]'),\n",
              " Text(0.5250638883428347, 0.7205882352941176, 'X[30] <= 0.245\\ngini = 0.096\\nsamples = 4759\\nvalue = [241, 4518]'),\n",
              " Text(0.5093375270296835, 0.6911764705882353, 'X[16] <= 0.026\\ngini = 0.036\\nsamples = 4476\\nvalue = [83, 4393]'),\n",
              " Text(0.4967564379791626, 0.6617647058823529, 'X[28] <= 0.955\\ngini = 0.021\\nsamples = 4428\\nvalue = [46, 4382]'),\n",
              " Text(0.4904658934539021, 0.6323529411764706, 'X[96] <= 0.5\\ngini = 0.017\\nsamples = 4421\\nvalue = [39, 4382]'),\n",
              " Text(0.4841753489286416, 0.6029411764705882, 'X[1] <= 0.0\\ngini = 0.016\\nsamples = 4417\\nvalue = [35, 4382]'),\n",
              " Text(0.46510713583644586, 0.5735294117647058, 'X[17] <= 0.083\\ngini = 0.01\\nsamples = 4371\\nvalue = [22, 4349]'),\n",
              " Text(0.44584234322783567, 0.5441176470588235, 'X[16] <= 0.013\\ngini = 0.009\\nsamples = 4364\\nvalue = [19, 4345]'),\n",
              " Text(0.4261843915863967, 0.5147058823529411, 'X[94] <= 0.5\\ngini = 0.006\\nsamples = 4291\\nvalue = [13, 4278]'),\n",
              " Text(0.4057401218793002, 0.4852941176470588, 'X[31] <= 0.09\\ngini = 0.006\\nsamples = 4287\\nvalue = [12, 4275]'),\n",
              " Text(0.38372321604088855, 0.45588235294117646, 'X[35] <= 0.5\\ngini = 0.005\\nsamples = 4278\\nvalue = [11, 4267]'),\n",
              " Text(0.35856103793984667, 0.4264705882352941, 'X[2] <= 0.0\\ngini = 0.002\\nsamples = 3752\\nvalue = [3, 3749]'),\n",
              " Text(0.3522704934145862, 0.39705882352941174, 'X[1] <= 0.0\\ngini = 0.006\\nsamples = 1009\\nvalue = [3, 1006]'),\n",
              " Text(0.3459799488893257, 0.36764705882352944, 'X[2] <= 0.0\\ngini = 0.004\\nsamples = 1008\\nvalue = [2, 1006]'),\n",
              " Text(0.3333988598388048, 0.3382352941176471, 'X[27] <= 0.005\\ngini = 0.002\\nsamples = 1006\\nvalue = [1, 1005]'),\n",
              " Text(0.32710831531354434, 0.3088235294117647, 'X[28] <= 0.41\\ngini = 0.006\\nsamples = 312\\nvalue = [1, 311]'),\n",
              " Text(0.3208177707882839, 0.27941176470588236, 'gini = 0.0\\nsamples = 1\\nvalue = [1, 0]'),\n",
              " Text(0.3333988598388048, 0.27941176470588236, 'gini = 0.0\\nsamples = 311\\nvalue = [0, 311]'),\n",
              " Text(0.33968940436406525, 0.3088235294117647, 'gini = 0.0\\nsamples = 694\\nvalue = [0, 694]'),\n",
              " Text(0.35856103793984667, 0.3382352941176471, 'X[37] <= 0.5\\ngini = 0.5\\nsamples = 2\\nvalue = [1, 1]'),\n",
              " Text(0.3522704934145862, 0.3088235294117647, 'gini = 0.0\\nsamples = 1\\nvalue = [0, 1]'),\n",
              " Text(0.3648515824651071, 0.3088235294117647, 'gini = 0.0\\nsamples = 1\\nvalue = [1, 0]'),\n",
              " Text(0.35856103793984667, 0.36764705882352944, 'gini = 0.0\\nsamples = 1\\nvalue = [1, 0]'),\n",
              " Text(0.3648515824651071, 0.39705882352941174, 'gini = 0.0\\nsamples = 2743\\nvalue = [0, 2743]'),\n",
              " Text(0.4088853941419304, 0.4264705882352941, 'X[25] <= 0.01\\ngini = 0.03\\nsamples = 526\\nvalue = [8, 518]'),\n",
              " Text(0.39630430509140946, 0.39705882352941174, 'X[24] <= 0.5\\ngini = 0.459\\nsamples = 14\\nvalue = [5, 9]'),\n",
              " Text(0.390013760566149, 0.36764705882352944, 'X[26] <= 0.006\\ngini = 0.426\\nsamples = 13\\nvalue = [4, 9]'),\n",
              " Text(0.38372321604088855, 0.3382352941176471, 'X[51] <= 0.5\\ngini = 0.48\\nsamples = 10\\nvalue = [4, 6]'),\n",
              " Text(0.3774326715156281, 0.3088235294117647, 'gini = 0.5\\nsamples = 6\\nvalue = [3, 3]'),\n",
              " Text(0.390013760566149, 0.3088235294117647, 'gini = 0.375\\nsamples = 4\\nvalue = [1, 3]'),\n",
              " Text(0.39630430509140946, 0.3382352941176471, 'gini = 0.0\\nsamples = 3\\nvalue = [0, 3]'),\n",
              " Text(0.40259484961666997, 0.36764705882352944, 'gini = 0.0\\nsamples = 1\\nvalue = [1, 0]'),\n",
              " Text(0.42146648319245134, 0.39705882352941174, 'X[1] <= 0.0\\ngini = 0.012\\nsamples = 512\\nvalue = [3, 509]'),\n",
              " Text(0.4151759386671909, 0.36764705882352944, 'X[25] <= 0.037\\ngini = 0.008\\nsamples = 511\\nvalue = [2, 509]'),\n",
              " Text(0.4088853941419304, 0.3382352941176471, 'X[25] <= 0.033\\ngini = 0.102\\nsamples = 37\\nvalue = [2, 35]'),\n",
              " Text(0.40259484961666997, 0.3088235294117647, 'X[25] <= 0.022\\ngini = 0.059\\nsamples = 33\\nvalue = [1, 32]'),\n",
              " Text(0.39630430509140946, 0.27941176470588236, 'X[25] <= 0.018\\ngini = 0.117\\nsamples = 16\\nvalue = [1, 15]'),\n",
              " Text(0.390013760566149, 0.25, 'gini = 0.0\\nsamples = 10\\nvalue = [0, 10]'),\n",
              " Text(0.40259484961666997, 0.25, 'X[51] <= 0.5\\ngini = 0.278\\nsamples = 6\\nvalue = [1, 5]'),\n",
              " Text(0.39630430509140946, 0.22058823529411764, 'gini = 0.375\\nsamples = 4\\nvalue = [1, 3]'),\n",
              " Text(0.4088853941419304, 0.22058823529411764, 'gini = 0.0\\nsamples = 2\\nvalue = [0, 2]'),\n",
              " Text(0.4088853941419304, 0.27941176470588236, 'gini = 0.0\\nsamples = 17\\nvalue = [0, 17]'),\n",
              " Text(0.4151759386671909, 0.3088235294117647, 'gini = 0.375\\nsamples = 4\\nvalue = [1, 3]'),\n",
              " Text(0.42146648319245134, 0.3382352941176471, 'gini = 0.0\\nsamples = 474\\nvalue = [0, 474]'),\n",
              " Text(0.4277570277177118, 0.36764705882352944, 'gini = 0.0\\nsamples = 1\\nvalue = [1, 0]'),\n",
              " Text(0.4277570277177118, 0.45588235294117646, 'X[113] <= 0.5\\ngini = 0.198\\nsamples = 9\\nvalue = [1, 8]'),\n",
              " Text(0.42146648319245134, 0.4264705882352941, 'gini = 0.0\\nsamples = 8\\nvalue = [0, 8]'),\n",
              " Text(0.4340475722429723, 0.4264705882352941, 'gini = 0.0\\nsamples = 1\\nvalue = [1, 0]'),\n",
              " Text(0.4466286612934932, 0.4852941176470588, 'X[1] <= 0.0\\ngini = 0.375\\nsamples = 4\\nvalue = [1, 3]'),\n",
              " Text(0.44033811676823276, 0.45588235294117646, 'gini = 0.0\\nsamples = 2\\nvalue = [0, 2]'),\n",
              " Text(0.45291920581875367, 0.45588235294117646, 'X[117] <= 0.5\\ngini = 0.5\\nsamples = 2\\nvalue = [1, 1]'),\n",
              " Text(0.4466286612934932, 0.4264705882352941, 'gini = 0.0\\nsamples = 1\\nvalue = [0, 1]'),\n",
              " Text(0.4592097503440142, 0.4264705882352941, 'gini = 0.0\\nsamples = 1\\nvalue = [1, 0]'),\n",
              " Text(0.46550029486927463, 0.5147058823529411, 'X[25] <= 0.704\\ngini = 0.151\\nsamples = 73\\nvalue = [6, 67]'),\n",
              " Text(0.4592097503440142, 0.4852941176470588, 'gini = 0.0\\nsamples = 66\\nvalue = [0, 66]'),\n",
              " Text(0.4717908393945351, 0.4852941176470588, 'X[2] <= 0.0\\ngini = 0.245\\nsamples = 7\\nvalue = [6, 1]'),\n",
              " Text(0.46550029486927463, 0.45588235294117646, 'gini = 0.0\\nsamples = 6\\nvalue = [6, 0]'),\n",
              " Text(0.47808138391979554, 0.45588235294117646, 'gini = 0.0\\nsamples = 1\\nvalue = [0, 1]'),\n",
              " Text(0.484371928445056, 0.5441176470588235, 'X[24] <= 0.535\\ngini = 0.49\\nsamples = 7\\nvalue = [3, 4]'),\n",
              " Text(0.47808138391979554, 0.5147058823529411, 'gini = 0.0\\nsamples = 4\\nvalue = [0, 4]'),\n",
              " Text(0.4906624729703165, 0.5147058823529411, 'gini = 0.0\\nsamples = 3\\nvalue = [3, 0]'),\n",
              " Text(0.5032435620208374, 0.5735294117647058, 'X[52] <= 0.5\\ngini = 0.405\\nsamples = 46\\nvalue = [13, 33]'),\n",
              " Text(0.49695301749557697, 0.5441176470588235, 'gini = 0.0\\nsamples = 33\\nvalue = [0, 33]'),\n",
              " Text(0.5095341065460979, 0.5441176470588235, 'gini = 0.0\\nsamples = 13\\nvalue = [13, 0]'),\n",
              " Text(0.4967564379791626, 0.6029411764705882, 'gini = 0.0\\nsamples = 4\\nvalue = [4, 0]'),\n",
              " Text(0.503046982504423, 0.6323529411764706, 'gini = 0.0\\nsamples = 7\\nvalue = [7, 0]'),\n",
              " Text(0.5219186160802044, 0.6617647058823529, 'X[25] <= 0.757\\ngini = 0.353\\nsamples = 48\\nvalue = [37, 11]'),\n",
              " Text(0.515628071554944, 0.6323529411764706, 'gini = 0.0\\nsamples = 11\\nvalue = [0, 11]'),\n",
              " Text(0.5282091606054649, 0.6323529411764706, 'gini = 0.0\\nsamples = 37\\nvalue = [37, 0]'),\n",
              " Text(0.5407902496559859, 0.6911764705882353, 'X[51] <= 0.5\\ngini = 0.493\\nsamples = 283\\nvalue = [158, 125]'),\n",
              " Text(0.5344997051307254, 0.6617647058823529, 'gini = 0.0\\nsamples = 116\\nvalue = [0, 116]'),\n",
              " Text(0.5470807941812463, 0.6617647058823529, 'X[25] <= 0.018\\ngini = 0.102\\nsamples = 167\\nvalue = [158, 9]'),\n",
              " Text(0.5407902496559859, 0.6323529411764706, 'gini = 0.0\\nsamples = 158\\nvalue = [158, 0]'),\n",
              " Text(0.5533713387065068, 0.6323529411764706, 'gini = 0.0\\nsamples = 9\\nvalue = [0, 9]'),\n",
              " Text(0.5596618832317672, 0.7205882352941176, 'X[25] <= 0.006\\ngini = 0.022\\nsamples = 176\\nvalue = [174, 2]'),\n",
              " Text(0.5533713387065068, 0.6911764705882353, 'gini = 0.0\\nsamples = 2\\nvalue = [0, 2]'),\n",
              " Text(0.5659524277570277, 0.6911764705882353, 'gini = 0.0\\nsamples = 174\\nvalue = [174, 0]'),\n",
              " Text(0.5974051503833301, 0.75, 'X[16] <= 0.007\\ngini = 0.105\\nsamples = 592\\nvalue = [559, 33]'),\n",
              " Text(0.5911146058580696, 0.7205882352941176, 'X[26] <= 0.263\\ngini = 0.06\\nsamples = 577\\nvalue = [559, 18]'),\n",
              " Text(0.5785335168075486, 0.6911764705882353, 'X[10] <= 0.004\\ngini = 0.038\\nsamples = 562\\nvalue = [551, 11]'),\n",
              " Text(0.5722429722822882, 0.6617647058823529, 'X[13] <= 0.062\\ngini = 0.035\\nsamples = 561\\nvalue = [551, 10]'),\n",
              " Text(0.5659524277570277, 0.6323529411764706, 'X[30] <= 0.085\\ngini = 0.032\\nsamples = 560\\nvalue = [551, 9]'),\n",
              " Text(0.5596618832317672, 0.6029411764705882, 'X[26] <= 0.2\\ngini = 0.123\\nsamples = 137\\nvalue = [128, 9]'),\n",
              " Text(0.5533713387065068, 0.5735294117647058, 'X[1] <= 0.0\\ngini = 0.098\\nsamples = 135\\nvalue = [128, 7]'),\n",
              " Text(0.5376449773933556, 0.5441176470588235, 'X[1] <= 0.0\\ngini = 0.061\\nsamples = 127\\nvalue = [123, 4]'),\n",
              " Text(0.5250638883428347, 0.5147058823529411, 'X[118] <= 0.5\\ngini = 0.198\\nsamples = 27\\nvalue = [24, 3]'),\n",
              " Text(0.5187733438175742, 0.4852941176470588, 'gini = 0.0\\nsamples = 17\\nvalue = [17, 0]'),\n",
              " Text(0.5313544328680951, 0.4852941176470588, 'X[2] <= 0.001\\ngini = 0.42\\nsamples = 10\\nvalue = [7, 3]'),\n",
              " Text(0.5250638883428347, 0.45588235294117646, 'X[26] <= 0.025\\ngini = 0.346\\nsamples = 9\\nvalue = [7, 2]'),\n",
              " Text(0.5187733438175742, 0.4264705882352941, 'X[25] <= 0.014\\ngini = 0.5\\nsamples = 4\\nvalue = [2, 2]'),\n",
              " Text(0.5124827992923138, 0.39705882352941174, 'gini = 0.0\\nsamples = 2\\nvalue = [2, 0]'),\n",
              " Text(0.5250638883428347, 0.39705882352941174, 'gini = 0.0\\nsamples = 2\\nvalue = [0, 2]'),\n",
              " Text(0.5313544328680951, 0.4264705882352941, 'gini = 0.0\\nsamples = 5\\nvalue = [5, 0]'),\n",
              " Text(0.5376449773933556, 0.45588235294117646, 'gini = 0.0\\nsamples = 1\\nvalue = [0, 1]'),\n",
              " Text(0.5502260664438765, 0.5147058823529411, 'X[117] <= 0.5\\ngini = 0.02\\nsamples = 100\\nvalue = [99, 1]'),\n",
              " Text(0.543935521918616, 0.4852941176470588, 'gini = 0.0\\nsamples = 98\\nvalue = [98, 0]'),\n",
              " Text(0.5565166109691371, 0.4852941176470588, 'X[25] <= 0.006\\ngini = 0.5\\nsamples = 2\\nvalue = [1, 1]'),\n",
              " Text(0.5502260664438765, 0.45588235294117646, 'gini = 0.0\\nsamples = 1\\nvalue = [1, 0]'),\n",
              " Text(0.5628071554943975, 0.45588235294117646, 'gini = 0.0\\nsamples = 1\\nvalue = [0, 1]'),\n",
              " Text(0.569097700019658, 0.5441176470588235, 'X[0] <= 0.0\\ngini = 0.469\\nsamples = 8\\nvalue = [5, 3]'),\n",
              " Text(0.5628071554943975, 0.5147058823529411, 'gini = 0.0\\nsamples = 3\\nvalue = [0, 3]'),\n",
              " Text(0.5753882445449184, 0.5147058823529411, 'gini = 0.0\\nsamples = 5\\nvalue = [5, 0]'),\n",
              " Text(0.5659524277570277, 0.5735294117647058, 'gini = 0.0\\nsamples = 2\\nvalue = [0, 2]'),\n",
              " Text(0.5722429722822882, 0.6029411764705882, 'gini = 0.0\\nsamples = 423\\nvalue = [423, 0]'),\n",
              " Text(0.5785335168075486, 0.6323529411764706, 'gini = 0.0\\nsamples = 1\\nvalue = [0, 1]'),\n",
              " Text(0.5848240613328092, 0.6617647058823529, 'gini = 0.0\\nsamples = 1\\nvalue = [0, 1]'),\n",
              " Text(0.6036956949085905, 0.6911764705882353, 'X[1] <= 0.0\\ngini = 0.498\\nsamples = 15\\nvalue = [8, 7]'),\n",
              " Text(0.5974051503833301, 0.6617647058823529, 'gini = 0.0\\nsamples = 7\\nvalue = [7, 0]'),\n",
              " Text(0.609986239433851, 0.6617647058823529, 'X[24] <= 0.5\\ngini = 0.219\\nsamples = 8\\nvalue = [1, 7]'),\n",
              " Text(0.6036956949085905, 0.6323529411764706, 'gini = 0.0\\nsamples = 6\\nvalue = [0, 6]'),\n",
              " Text(0.6162767839591115, 0.6323529411764706, 'X[1] <= 0.0\\ngini = 0.5\\nsamples = 2\\nvalue = [1, 1]'),\n",
              " Text(0.609986239433851, 0.6029411764705882, 'gini = 0.0\\nsamples = 1\\nvalue = [1, 0]'),\n",
              " Text(0.6225673284843719, 0.6029411764705882, 'gini = 0.0\\nsamples = 1\\nvalue = [0, 1]'),\n",
              " Text(0.6036956949085905, 0.7205882352941176, 'gini = 0.0\\nsamples = 15\\nvalue = [0, 15]'),\n",
              " Text(0.44336666994299195, 0.8088235294117647, 'gini = 0.0\\nsamples = 525\\nvalue = [525, 0]'),\n",
              " Text(0.6288578730096324, 0.8382352941176471, 'X[38] <= 0.5\\ngini = 0.063\\nsamples = 681\\nvalue = [659, 22]'),\n",
              " Text(0.6225673284843719, 0.8088235294117647, 'X[33] <= 0.025\\ngini = 0.006\\nsamples = 661\\nvalue = [659, 2]'),\n",
              " Text(0.6162767839591115, 0.7794117647058824, 'X[29] <= 0.005\\ngini = 0.444\\nsamples = 3\\nvalue = [1, 2]'),\n",
              " Text(0.609986239433851, 0.75, 'gini = 0.0\\nsamples = 1\\nvalue = [1, 0]'),\n",
              " Text(0.6225673284843719, 0.75, 'gini = 0.0\\nsamples = 2\\nvalue = [0, 2]'),\n",
              " Text(0.6288578730096324, 0.7794117647058824, 'gini = 0.0\\nsamples = 658\\nvalue = [658, 0]'),\n",
              " Text(0.6351484175348928, 0.8088235294117647, 'gini = 0.0\\nsamples = 20\\nvalue = [0, 20]'),\n",
              " Text(0.6666011401611952, 0.8676470588235294, 'X[2] <= 0.0\\ngini = 0.139\\nsamples = 1202\\nvalue = [1112, 90]'),\n",
              " Text(0.6540200511106743, 0.8382352941176471, 'X[33] <= 0.99\\ngini = 0.038\\nsamples = 1131\\nvalue = [1109, 22]'),\n",
              " Text(0.6477295065854138, 0.8088235294117647, 'gini = 0.0\\nsamples = 1107\\nvalue = [1107, 0]'),\n",
              " Text(0.6603105956359347, 0.8088235294117647, 'X[60] <= 0.5\\ngini = 0.153\\nsamples = 24\\nvalue = [2, 22]'),\n",
              " Text(0.6540200511106743, 0.7794117647058824, 'gini = 0.0\\nsamples = 2\\nvalue = [2, 0]'),\n",
              " Text(0.6666011401611952, 0.7794117647058824, 'gini = 0.0\\nsamples = 22\\nvalue = [0, 22]'),\n",
              " Text(0.6791822292117161, 0.8382352941176471, 'X[113] <= 0.5\\ngini = 0.081\\nsamples = 71\\nvalue = [3, 68]'),\n",
              " Text(0.6728916846864557, 0.8088235294117647, 'gini = 0.0\\nsamples = 2\\nvalue = [2, 0]'),\n",
              " Text(0.6854727737369766, 0.8088235294117647, 'X[6] <= 0.6\\ngini = 0.029\\nsamples = 69\\nvalue = [1, 68]'),\n",
              " Text(0.6791822292117161, 0.7794117647058824, 'gini = 0.0\\nsamples = 68\\nvalue = [0, 68]'),\n",
              " Text(0.691763318262237, 0.7794117647058824, 'gini = 0.0\\nsamples = 1\\nvalue = [1, 0]'),\n",
              " Text(0.7326518576764302, 0.8970588235294118, 'X[110] <= 0.5\\ngini = 0.03\\nsamples = 1794\\nvalue = [1767, 27]'),\n",
              " Text(0.716925496363279, 0.8676470588235294, 'X[32] <= 0.095\\ngini = 0.011\\nsamples = 1776\\nvalue = [1766, 10]'),\n",
              " Text(0.704344407312758, 0.8382352941176471, 'X[31] <= 0.72\\ngini = 0.298\\nsamples = 11\\nvalue = [2, 9]'),\n",
              " Text(0.6980538627874976, 0.8088235294117647, 'gini = 0.0\\nsamples = 8\\nvalue = [0, 8]'),\n",
              " Text(0.7106349518380185, 0.8088235294117647, 'X[30] <= 0.195\\ngini = 0.444\\nsamples = 3\\nvalue = [2, 1]'),\n",
              " Text(0.704344407312758, 0.7794117647058824, 'gini = 0.0\\nsamples = 2\\nvalue = [2, 0]'),\n",
              " Text(0.716925496363279, 0.7794117647058824, 'gini = 0.0\\nsamples = 1\\nvalue = [0, 1]'),\n",
              " Text(0.7295065854137999, 0.8382352941176471, 'X[0] <= 0.0\\ngini = 0.001\\nsamples = 1765\\nvalue = [1764, 1]'),\n",
              " Text(0.7232160408885394, 0.8088235294117647, 'gini = 0.0\\nsamples = 1764\\nvalue = [1764, 0]'),\n",
              " Text(0.7357971299390603, 0.8088235294117647, 'gini = 0.0\\nsamples = 1\\nvalue = [0, 1]'),\n",
              " Text(0.7483782189895812, 0.8676470588235294, 'X[62] <= 0.5\\ngini = 0.105\\nsamples = 18\\nvalue = [1, 17]'),\n",
              " Text(0.7420876744643208, 0.8382352941176471, 'gini = 0.0\\nsamples = 17\\nvalue = [0, 17]'),\n",
              " Text(0.7546687635148418, 0.8382352941176471, 'gini = 0.0\\nsamples = 1\\nvalue = [1, 0]'),\n",
              " Text(0.8270100255553371, 0.9264705882352942, 'X[1] <= 0.0\\ngini = 0.287\\nsamples = 2851\\nvalue = [2356, 495]'),\n",
              " Text(0.7955573029290348, 0.8970588235294118, 'X[94] <= 0.5\\ngini = 0.269\\nsamples = 456\\nvalue = [73, 383]'),\n",
              " Text(0.7798309416158836, 0.8676470588235294, 'X[0] <= 0.003\\ngini = 0.112\\nsamples = 403\\nvalue = [24, 379]'),\n",
              " Text(0.7672498525653627, 0.8382352941176471, 'X[13] <= 0.062\\ngini = 0.055\\nsamples = 388\\nvalue = [11, 377]'),\n",
              " Text(0.7609593080401023, 0.8088235294117647, 'X[1] <= 0.0\\ngini = 0.031\\nsamples = 383\\nvalue = [6, 377]'),\n",
              " Text(0.7483782189895812, 0.7794117647058824, 'X[27] <= 0.805\\ngini = 0.408\\nsamples = 7\\nvalue = [5, 2]'),\n",
              " Text(0.7420876744643208, 0.75, 'gini = 0.0\\nsamples = 2\\nvalue = [0, 2]'),\n",
              " Text(0.7546687635148418, 0.75, 'gini = 0.0\\nsamples = 5\\nvalue = [5, 0]'),\n",
              " Text(0.7735403970906232, 0.7794117647058824, 'X[11] <= 0.018\\ngini = 0.005\\nsamples = 376\\nvalue = [1, 375]'),\n",
              " Text(0.7672498525653627, 0.75, 'gini = 0.0\\nsamples = 375\\nvalue = [0, 375]'),\n",
              " Text(0.7798309416158836, 0.75, 'gini = 0.0\\nsamples = 1\\nvalue = [1, 0]'),\n",
              " Text(0.7735403970906232, 0.8088235294117647, 'gini = 0.0\\nsamples = 5\\nvalue = [5, 0]'),\n",
              " Text(0.7924120306664045, 0.8382352941176471, 'X[28] <= 0.18\\ngini = 0.231\\nsamples = 15\\nvalue = [13, 2]'),\n",
              " Text(0.7861214861411441, 0.8088235294117647, 'gini = 0.0\\nsamples = 13\\nvalue = [13, 0]'),\n",
              " Text(0.798702575191665, 0.8088235294117647, 'gini = 0.0\\nsamples = 2\\nvalue = [0, 2]'),\n",
              " Text(0.811283664242186, 0.8676470588235294, 'X[0] <= 0.006\\ngini = 0.14\\nsamples = 53\\nvalue = [49, 4]'),\n",
              " Text(0.8049931197169254, 0.8382352941176471, 'gini = 0.0\\nsamples = 49\\nvalue = [49, 0]'),\n",
              " Text(0.8175742087674465, 0.8382352941176471, 'gini = 0.0\\nsamples = 4\\nvalue = [0, 4]'),\n",
              " Text(0.8584627481816395, 0.8970588235294118, 'X[0] <= 0.0\\ngini = 0.089\\nsamples = 2395\\nvalue = [2283, 112]'),\n",
              " Text(0.8364458423432278, 0.8676470588235294, 'X[2] <= 0.0\\ngini = 0.006\\nsamples = 2209\\nvalue = [2202, 7]'),\n",
              " Text(0.8301552978179674, 0.8382352941176471, 'gini = 0.0\\nsamples = 6\\nvalue = [0, 6]'),\n",
              " Text(0.8427363868684883, 0.8382352941176471, 'X[19] <= 0.75\\ngini = 0.001\\nsamples = 2203\\nvalue = [2202, 1]'),\n",
              " Text(0.8364458423432278, 0.8088235294117647, 'gini = 0.0\\nsamples = 2202\\nvalue = [2202, 0]'),\n",
              " Text(0.8490269313937487, 0.8088235294117647, 'gini = 0.0\\nsamples = 1\\nvalue = [0, 1]'),\n",
              " Text(0.8804796540200511, 0.8676470588235294, 'X[0] <= 0.001\\ngini = 0.492\\nsamples = 186\\nvalue = [81, 105]'),\n",
              " Text(0.8678985649695302, 0.8382352941176471, 'X[94] <= 0.5\\ngini = 0.058\\nsamples = 101\\nvalue = [3, 98]'),\n",
              " Text(0.8616080204442698, 0.8088235294117647, 'gini = 0.0\\nsamples = 98\\nvalue = [0, 98]'),\n",
              " Text(0.8741891094947907, 0.8088235294117647, 'gini = 0.0\\nsamples = 3\\nvalue = [3, 0]'),\n",
              " Text(0.893060743070572, 0.8382352941176471, 'X[0] <= 0.179\\ngini = 0.151\\nsamples = 85\\nvalue = [78, 7]'),\n",
              " Text(0.8867701985453116, 0.8088235294117647, 'X[5] <= 0.733\\ngini = 0.049\\nsamples = 80\\nvalue = [78, 2]'),\n",
              " Text(0.8804796540200511, 0.7794117647058824, 'gini = 0.0\\nsamples = 78\\nvalue = [78, 0]'),\n",
              " Text(0.893060743070572, 0.7794117647058824, 'gini = 0.0\\nsamples = 2\\nvalue = [0, 2]'),\n",
              " Text(0.8993512875958325, 0.8088235294117647, 'gini = 0.0\\nsamples = 5\\nvalue = [0, 5]'),\n",
              " Text(0.9606840967171221, 0.9558823529411765, 'X[2] <= 0.0\\ngini = 0.007\\nsamples = 350607\\nvalue = [349362, 1245]'),\n",
              " Text(0.933949282484765, 0.9264705882352942, 'X[99] <= 0.5\\ngini = 0.0\\nsamples = 349360\\nvalue = [349354, 6]'),\n",
              " Text(0.9276587379595046, 0.8970588235294118, 'X[117] <= 0.5\\ngini = 0.0\\nsamples = 349359\\nvalue = [349354, 5]'),\n",
              " Text(0.9119323766463534, 0.8676470588235294, 'X[57] <= 0.5\\ngini = 0.5\\nsamples = 2\\nvalue = [1, 1]'),\n",
              " Text(0.905641832121093, 0.8382352941176471, 'gini = 0.0\\nsamples = 1\\nvalue = [1, 0]'),\n",
              " Text(0.918222921171614, 0.8382352941176471, 'gini = 0.0\\nsamples = 1\\nvalue = [0, 1]'),\n",
              " Text(0.9433850992726558, 0.8676470588235294, 'X[25] <= 0.29\\ngini = 0.0\\nsamples = 349357\\nvalue = [349353, 4]'),\n",
              " Text(0.9308040102221349, 0.8382352941176471, 'X[78] <= 0.5\\ngini = 0.075\\nsamples = 51\\nvalue = [49, 2]'),\n",
              " Text(0.9245134656968744, 0.8088235294117647, 'gini = 0.0\\nsamples = 49\\nvalue = [49, 0]'),\n",
              " Text(0.9370945547473953, 0.8088235294117647, 'gini = 0.0\\nsamples = 2\\nvalue = [0, 2]'),\n",
              " Text(0.9559661883231767, 0.8382352941176471, 'X[16] <= 0.12\\ngini = 0.0\\nsamples = 349306\\nvalue = [349304, 2]'),\n",
              " Text(0.9496756437979162, 0.8088235294117647, 'X[78] <= 0.5\\ngini = 0.008\\nsamples = 517\\nvalue = [515, 2]'),\n",
              " Text(0.9433850992726558, 0.7794117647058824, 'gini = 0.0\\nsamples = 514\\nvalue = [514, 0]'),\n",
              " Text(0.9559661883231767, 0.7794117647058824, 'X[1] <= 0.0\\ngini = 0.444\\nsamples = 3\\nvalue = [1, 2]'),\n",
              " Text(0.9496756437979162, 0.75, 'gini = 0.0\\nsamples = 1\\nvalue = [1, 0]'),\n",
              " Text(0.9622567328484372, 0.75, 'gini = 0.0\\nsamples = 2\\nvalue = [0, 2]'),\n",
              " Text(0.9622567328484372, 0.8088235294117647, 'gini = 0.0\\nsamples = 348789\\nvalue = [348789, 0]'),\n",
              " Text(0.9402398270100255, 0.8970588235294118, 'gini = 0.0\\nsamples = 1\\nvalue = [0, 1]'),\n",
              " Text(0.9874189109494791, 0.9264705882352942, 'X[23] <= 0.075\\ngini = 0.013\\nsamples = 1247\\nvalue = [8, 1239]'),\n",
              " Text(0.9811283664242186, 0.8970588235294118, 'X[83] <= 0.5\\ngini = 0.005\\nsamples = 1242\\nvalue = [3, 1239]'),\n",
              " Text(0.9748378218989582, 0.8676470588235294, 'X[113] <= 0.5\\ngini = 0.002\\nsamples = 1240\\nvalue = [1, 1239]'),\n",
              " Text(0.9685472773736976, 0.8382352941176471, 'gini = 0.0\\nsamples = 1\\nvalue = [1, 0]'),\n",
              " Text(0.9811283664242186, 0.8382352941176471, 'gini = 0.0\\nsamples = 1239\\nvalue = [0, 1239]'),\n",
              " Text(0.9874189109494791, 0.8676470588235294, 'gini = 0.0\\nsamples = 2\\nvalue = [2, 0]'),\n",
              " Text(0.9937094554747395, 0.8970588235294118, 'gini = 0.0\\nsamples = 5\\nvalue = [5, 0]')]"
            ]
          },
          "metadata": {},
          "execution_count": 99
        },
        {
          "output_type": "display_data",
          "data": {
            "text/plain": [
              "<Figure size 576x396 with 1 Axes>"
            ],
            "image/png": "[encoded data removed]"
          },
          "metadata": {}
        }
      ]
    },
    {
      "cell_type": "markdown",
      "source": [
        "*3. Change the distribution of training-test data to 20% test, 30% test.. All the way to 90% test 10% train. Store this data and plot the relationship between accuracy and percent of training data.*"
      ],
      "metadata": {
        "id": "8JYnZeGbhBaB"
      }
    },
    {
      "cell_type": "code",
      "source": [
        "model_selection_df = pd.DataFrame()"
      ],
      "metadata": {
        "id": "6Lh0AT_WhAaB"
      },
      "execution_count": 112,
      "outputs": []
    },
    {
      "cell_type": "code",
      "source": [
        "test_set_percentages = np.arange(0.1,1.0,0.1)\n",
        "test_set_percentages"
      ],
      "metadata": {
        "colab": {
          "base_uri": "https://localhost:8080/"
        },
        "id": "buK-er2smOgb",
        "outputId": "1a7e04bc-9a9d-4f8d-8792-d7579ed59245"
      },
      "execution_count": 113,
      "outputs": [
        {
          "output_type": "execute_result",
          "data": {
            "text/plain": [
              "array([0.1, 0.2, 0.3, 0.4, 0.5, 0.6, 0.7, 0.8, 0.9])"
            ]
          },
          "metadata": {},
          "execution_count": 113
        }
      ]
    },
    {
      "cell_type": "code",
      "source": [
        "def build_and_evaluate_model(percentage_val):\n",
        "    print(f\"Test set percentage {int(percentage_val * 100)}%, Train set percentages {int((1-percentage_val) * 100)}\")\n",
        "    index_percent = int(percentage_val * len(df.to_numpy()[:, 0]))\n",
        "    print(index_percent)\n",
        "    XVALID = X_numpy[:index_percent]\n",
        "    #print(\"XVALID shape : \", XVALID.shape)\n",
        "    YVALID = Y_numpy[:index_percent]\n",
        "    #print(\"YVALID shape : \", YVALID.shape)\n",
        "    XTRAIN = X_numpy[index_percent:]\n",
        "    print(\"XTRAIN shape : \", XTRAIN.shape)\n",
        "    YTRAIN = Y_numpy[index_percent:]\n",
        "    print(\"YTRAIN shape : \", YTRAIN.shape)\n",
        "    decision_tree_class_candidate_model = decision_tree_class.fit(XTRAIN, YTRAIN)\n",
        "    y_pred_decision_tree_candidate = decision_tree_class_base_model.predict(XVALID)\n",
        "    accuracy_val = skmetrics.accuracy_score(YVALID, y_pred_decision_tree_candidate)\n",
        "    return round(accuracy_val,4)"
      ],
      "metadata": {
        "id": "PFaWssRqhAdJ"
      },
      "execution_count": 117,
      "outputs": []
    },
    {
      "cell_type": "code",
      "source": [
        "for idx, test_percent in enumerate(test_set_percentages):\n",
        "  model_selection_df.loc[idx, 'train_percentage'] = str(int((1-test_percent)*100)) + \"%\"\n",
        "  model_selection_df.loc[idx, 'test_percentage'] = str(int(test_percent * 100)) + \"%\"\n",
        "  this_acc = build_and_evaluate_model(test_percent)\n",
        "  model_selection_df.loc[idx, 'Accuracy_Percent'] = this_acc * 100\n"
      ],
      "metadata": {
        "colab": {
          "base_uri": "https://localhost:8080/"
        },
        "id": "94_Z6BFGhAfi",
        "outputId": "ec01604e-d316-4988-a74c-ad951d2055e1"
      },
      "execution_count": 118,
      "outputs": [
        {
          "output_type": "stream",
          "name": "stdout",
          "text": [
            "Test set percentage 10%, Train set percentages 90\n",
            "49402\n",
            "XTRAIN shape :  (444618, 121)\n",
            "YTRAIN shape :  (444618,)\n",
            "Test set percentage 20%, Train set percentages 80\n",
            "98804\n",
            "XTRAIN shape :  (395216, 121)\n",
            "YTRAIN shape :  (395216,)\n",
            "Test set percentage 30%, Train set percentages 70\n",
            "148206\n",
            "XTRAIN shape :  (345814, 121)\n",
            "YTRAIN shape :  (345814,)\n",
            "Test set percentage 40%, Train set percentages 60\n",
            "197608\n",
            "XTRAIN shape :  (296412, 121)\n",
            "YTRAIN shape :  (296412,)\n",
            "Test set percentage 50%, Train set percentages 50\n",
            "247010\n",
            "XTRAIN shape :  (247010, 121)\n",
            "YTRAIN shape :  (247010,)\n",
            "Test set percentage 60%, Train set percentages 40\n",
            "296412\n",
            "XTRAIN shape :  (197608, 121)\n",
            "YTRAIN shape :  (197608,)\n",
            "Test set percentage 70%, Train set percentages 29\n",
            "345814\n",
            "XTRAIN shape :  (148206, 121)\n",
            "YTRAIN shape :  (148206,)\n",
            "Test set percentage 80%, Train set percentages 19\n",
            "395216\n",
            "XTRAIN shape :  (98804, 121)\n",
            "YTRAIN shape :  (98804,)\n",
            "Test set percentage 90%, Train set percentages 9\n",
            "444618\n",
            "XTRAIN shape :  (49402, 121)\n",
            "YTRAIN shape :  (49402,)\n"
          ]
        }
      ]
    },
    {
      "cell_type": "code",
      "source": [
        "model_selection_df"
      ],
      "metadata": {
        "colab": {
          "base_uri": "https://localhost:8080/",
          "height": 332
        },
        "id": "r8EqUE_vntDc",
        "outputId": "b3fdf488-f9e0-491a-b442-4ff647969bf0"
      },
      "execution_count": 119,
      "outputs": [
        {
          "output_type": "execute_result",
          "data": {
            "text/plain": [
              "  train_percentage test_percentage  Accuracy_Percent\n",
              "0              90%             10%             99.96\n",
              "1              80%             20%             99.97\n",
              "2              70%             30%             99.97\n",
              "3              60%             40%             99.96\n",
              "4              50%             50%             99.96\n",
              "5              40%             60%             99.93\n",
              "6              29%             70%             99.94\n",
              "7              19%             80%             99.93\n",
              "8               9%             90%             99.91"
            ],
            "text/html": [
              "\n",
              "  <div id=\"df-7d4585db-7189-4cf4-a246-94f756b68eca\">\n",
              "    <div class=\"colab-df-container\">\n",
              "      <div>\n",
              "<style scoped>\n",
              "    .dataframe tbody tr th:only-of-type {\n",
              "        vertical-align: middle;\n",
              "    }\n",
              "\n",
              "    .dataframe tbody tr th {\n",
              "        vertical-align: top;\n",
              "    }\n",
              "\n",
              "    .dataframe thead th {\n",
              "        text-align: right;\n",
              "    }\n",
              "</style>\n",
              "<table border=\"1\" class=\"dataframe\">\n",
              "  <thead>\n",
              "    <tr style=\"text-align: right;\">\n",
              "      <th></th>\n",
              "      <th>train_percentage</th>\n",
              "      <th>test_percentage</th>\n",
              "      <th>Accuracy_Percent</th>\n",
              "    </tr>\n",
              "  </thead>\n",
              "  <tbody>\n",
              "    <tr>\n",
              "      <th>0</th>\n",
              "      <td>90%</td>\n",
              "      <td>10%</td>\n",
              "      <td>99.96</td>\n",
              "    </tr>\n",
              "    <tr>\n",
              "      <th>1</th>\n",
              "      <td>80%</td>\n",
              "      <td>20%</td>\n",
              "      <td>99.97</td>\n",
              "    </tr>\n",
              "    <tr>\n",
              "      <th>2</th>\n",
              "      <td>70%</td>\n",
              "      <td>30%</td>\n",
              "      <td>99.97</td>\n",
              "    </tr>\n",
              "    <tr>\n",
              "      <th>3</th>\n",
              "      <td>60%</td>\n",
              "      <td>40%</td>\n",
              "      <td>99.96</td>\n",
              "    </tr>\n",
              "    <tr>\n",
              "      <th>4</th>\n",
              "      <td>50%</td>\n",
              "      <td>50%</td>\n",
              "      <td>99.96</td>\n",
              "    </tr>\n",
              "    <tr>\n",
              "      <th>5</th>\n",
              "      <td>40%</td>\n",
              "      <td>60%</td>\n",
              "      <td>99.93</td>\n",
              "    </tr>\n",
              "    <tr>\n",
              "      <th>6</th>\n",
              "      <td>29%</td>\n",
              "      <td>70%</td>\n",
              "      <td>99.94</td>\n",
              "    </tr>\n",
              "    <tr>\n",
              "      <th>7</th>\n",
              "      <td>19%</td>\n",
              "      <td>80%</td>\n",
              "      <td>99.93</td>\n",
              "    </tr>\n",
              "    <tr>\n",
              "      <th>8</th>\n",
              "      <td>9%</td>\n",
              "      <td>90%</td>\n",
              "      <td>99.91</td>\n",
              "    </tr>\n",
              "  </tbody>\n",
              "</table>\n",
              "</div>\n",
              "      <button class=\"colab-df-convert\" onclick=\"convertToInteractive('df-7d4585db-7189-4cf4-a246-94f756b68eca')\"\n",
              "              title=\"Convert this dataframe to an interactive table.\"\n",
              "              style=\"display:none;\">\n",
              "        \n",
              "  <svg xmlns=\"http://www.w3.org/2000/svg\" height=\"24px\"viewBox=\"0 0 24 24\"\n",
              "       width=\"24px\">\n",
              "    <path d=\"M0 0h24v24H0V0z\" fill=\"none\"/>\n",
              "    <path d=\"M18.56 5.44l.94 2.06.94-2.06 2.06-.94-2.06-.94-.94-2.06-.94 2.06-2.06.94zm-11 1L8.5 8.5l.94-2.06 2.06-.94-2.06-.94L8.5 2.5l-.94 2.06-2.06.94zm10 10l.94 2.06.94-2.06 2.06-.94-2.06-.94-.94-2.06-.94 2.06-2.06.94z\"/><path d=\"M17.41 7.96l-1.37-1.37c-.4-.4-.92-.59-1.43-.59-.52 0-1.04.2-1.43.59L10.3 9.45l-7.72 7.72c-.78.78-.78 2.05 0 2.83L4 21.41c.39.39.9.59 1.41.59.51 0 1.02-.2 1.41-.59l7.78-7.78 2.81-2.81c.8-.78.8-2.07 0-2.86zM5.41 20L4 18.59l7.72-7.72 1.47 1.35L5.41 20z\"/>\n",
              "  </svg>\n",
              "      </button>\n",
              "      \n",
              "  <style>\n",
              "    .colab-df-container {\n",
              "      display:flex;\n",
              "      flex-wrap:wrap;\n",
              "      gap: 12px;\n",
              "    }\n",
              "\n",
              "    .colab-df-convert {\n",
              "      background-color: #E8F0FE;\n",
              "      border: none;\n",
              "      border-radius: 50%;\n",
              "      cursor: pointer;\n",
              "      display: none;\n",
              "      fill: #1967D2;\n",
              "      height: 32px;\n",
              "      padding: 0 0 0 0;\n",
              "      width: 32px;\n",
              "    }\n",
              "\n",
              "    .colab-df-convert:hover {\n",
              "      background-color: #E2EBFA;\n",
              "      box-shadow: 0px 1px 2px rgba(60, 64, 67, 0.3), 0px 1px 3px 1px rgba(60, 64, 67, 0.15);\n",
              "      fill: #174EA6;\n",
              "    }\n",
              "\n",
              "    [theme=dark] .colab-df-convert {\n",
              "      background-color: #3B4455;\n",
              "      fill: #D2E3FC;\n",
              "    }\n",
              "\n",
              "    [theme=dark] .colab-df-convert:hover {\n",
              "      background-color: #434B5C;\n",
              "      box-shadow: 0px 1px 3px 1px rgba(0, 0, 0, 0.15);\n",
              "      filter: drop-shadow(0px 1px 2px rgba(0, 0, 0, 0.3));\n",
              "      fill: #FFFFFF;\n",
              "    }\n",
              "  </style>\n",
              "\n",
              "      <script>\n",
              "        const buttonEl =\n",
              "          document.querySelector('#df-7d4585db-7189-4cf4-a246-94f756b68eca button.colab-df-convert');\n",
              "        buttonEl.style.display =\n",
              "          google.colab.kernel.accessAllowed ? 'block' : 'none';\n",
              "\n",
              "        async function convertToInteractive(key) {\n",
              "          const element = document.querySelector('#df-7d4585db-7189-4cf4-a246-94f756b68eca');\n",
              "          const dataTable =\n",
              "            await google.colab.kernel.invokeFunction('convertToInteractive',\n",
              "                                                     [key], {});\n",
              "          if (!dataTable) return;\n",
              "\n",
              "          const docLinkHtml = 'Like what you see? Visit the ' +\n",
              "            '<a target=\"_blank\" href=https://colab.research.google.com/notebooks/data_table.ipynb>data table notebook</a>'\n",
              "            + ' to learn more about interactive tables.';\n",
              "          element.innerHTML = '';\n",
              "          dataTable['output_type'] = 'display_data';\n",
              "          await google.colab.output.renderOutput(dataTable, element);\n",
              "          const docLink = document.createElement('div');\n",
              "          docLink.innerHTML = docLinkHtml;\n",
              "          element.appendChild(docLink);\n",
              "        }\n",
              "      </script>\n",
              "    </div>\n",
              "  </div>\n",
              "  "
            ]
          },
          "metadata": {},
          "execution_count": 119
        }
      ]
    },
    {
      "cell_type": "markdown",
      "source": [
        "**Insight**: As seen above there is not much deviation with the change in the train and test percentages. However, it is good to know that the model is well adjusting to the given dataset. Ideally 70-30 split would be a good genralization"
      ],
      "metadata": {
        "id": "smSTcidvoQV4"
      }
    },
    {
      "cell_type": "markdown",
      "source": [
        "*6. Make an argument for which of the two models for the problem type you chose works\n",
        "better in this case.*"
      ],
      "metadata": {
        "id": "YLWtNDpyhK7q"
      }
    },
    {
      "cell_type": "markdown",
      "source": [
        "**Insight**: DecisionTreeClassifier is performing better than linear regression interms of accuracy. For this type of dataset where there is no relationship between the input features, DecisioTreeClassifier would be a goodfit. Since, DecisionTreeClassifier as overfitting problems, RandomForestClassifier will be a good ensemble technique which brings the genralization"
      ],
      "metadata": {
        "id": "GBVHyqdWoeSu"
      }
    },
    {
      "cell_type": "markdown",
      "source": [
        "**Part-4 and Part -5 Done**"
      ],
      "metadata": {
        "id": "z-rGSnT7o6z1"
      }
    }
  ]
}